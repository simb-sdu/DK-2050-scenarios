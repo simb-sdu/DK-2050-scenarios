{
 "cells": [
  {
   "cell_type": "code",
   "execution_count": 1,
   "id": "f44cab4c-36c2-4ea4-aabc-b907570aaf67",
   "metadata": {},
   "outputs": [],
   "source": [
    "import bw2data as bw\n",
    "from premise import *\n",
    "from datapackage import Package"
   ]
  },
  {
   "cell_type": "code",
   "execution_count": 2,
   "id": "a2a9fe55-963b-4cf8-9d88-2cc6f3e5ad7c",
   "metadata": {},
   "outputs": [
    {
     "name": "stdout",
     "output_type": "stream",
     "text": [
      "/home/simb/PycharmProjects/premise/premise/__init__.py\n",
      "(2, 0, 2)\n"
     ]
    }
   ],
   "source": [
    "from premise import __file__ , __version__\n",
    "print(__file__)\n",
    "print(__version__)"
   ]
  },
  {
   "cell_type": "code",
   "execution_count": 3,
   "id": "d67ee9b0-6243-4b37-b628-0a06b63aa6a2",
   "metadata": {},
   "outputs": [
    {
     "data": {
      "text/plain": [
       "[]"
      ]
     },
     "execution_count": 3,
     "metadata": {},
     "output_type": "execute_result"
    }
   ],
   "source": [
    "fp = \"/home/simb/PycharmProjects/DK-2050-scenarios/datapackage.json\"\n",
    "#fp = r\"https://raw.githubusercontent.com/premise-community-scenarios/energy-perspective-2050-switzerland/main/datapackage.json\"\n",
    "ep2050 = Package(fp)\n",
    "ep2050.errors #test for errors in datapackage"
   ]
  },
  {
   "cell_type": "code",
   "execution_count": 4,
   "id": "9807e404-8a36-4e9d-900e-3b2cbc67e96f",
   "metadata": {},
   "outputs": [],
   "source": [
    "bw.projects.set_current(\"psi1\")"
   ]
  },
  {
   "cell_type": "code",
   "execution_count": 5,
   "id": "fe14b739-d49d-45f7-8a31-ea3a8d2a5468",
   "metadata": {
    "scrolled": true
   },
   "outputs": [
    {
     "data": {
      "text/plain": [
       "Databases dictionary with 13 object(s):\n",
       "\tbiosphere3\n",
       "\tcutoff391\n",
       "\tecoinvent_cutoff_3.9_image_SSP2-Base_2035_dk-2050-scenarios\n",
       "\tecoinvent_cutoff_3.9_image_SSP2-Base_2050_dk-2050-scenarios\n",
       "\tecoinvent_cutoff_3.9_remind_SSP2-Base_2035_dk-2050-scenarios\n",
       "\tecoinvent_cutoff_3.9_remind_SSP2-Base_2050_dk-2050-scenarios\n",
       "\tresidential energy\n",
       "\ttest 1860\n",
       "\ttest 1890\n",
       "\ttest 1920\n",
       "\ttest 1970\n",
       "\ttest 2010\n",
       "\ttest DH and elec"
      ]
     },
     "execution_count": 5,
     "metadata": {},
     "output_type": "execute_result"
    }
   ],
   "source": [
    "bw.databases"
   ]
  },
  {
   "cell_type": "code",
   "execution_count": 6,
   "id": "545ab1d2-70b2-47c0-805f-113e9bafb3e1",
   "metadata": {},
   "outputs": [],
   "source": [
    "#clear_cache() #clear_cache()  recreates a cache of inventories, which is needed when some inventories are changed, to be considered. but it has nothing to do with my own inventories"
   ]
  },
  {
   "cell_type": "code",
   "execution_count": 7,
   "id": "7c1f650f-accb-4fb7-8ddf-9f5f71abbe4d",
   "metadata": {},
   "outputs": [
    {
     "name": "stdout",
     "output_type": "stream",
     "text": [
      "premise v.(2, 0, 2)\n",
      "+------------------------------------------------------------------+\n",
      "| Warning                                                          |\n",
      "+------------------------------------------------------------------+\n",
      "| Because some of the scenarios can yield LCI databases            |\n",
      "| containing net negative emission technologies (NET),             |\n",
      "| it is advised to account for biogenic CO2 flows when calculating |\n",
      "| Global Warming potential indicators.                             |\n",
      "| `premise_gwp` provides characterization factors for such flows.  |\n",
      "| It also provides factors for hydrogen emissions to air.          |\n",
      "|                                                                  |\n",
      "| Within your bw2 project:                                         |\n",
      "| from premise_gwp import add_premise_gwp                          |\n",
      "| add_premise_gwp()                                                |\n",
      "+------------------------------------------------------------------+\n",
      "+--------------------------------+----------------------------------+\n",
      "| Utils functions                | Description                      |\n",
      "+--------------------------------+----------------------------------+\n",
      "| clear_cache()                  | Clears the cache folder. Useful  |\n",
      "|                                | when updating `premise`or        |\n",
      "|                                | encountering issues with         |\n",
      "|                                | inventories.                     |\n",
      "+--------------------------------+----------------------------------+\n",
      "| get_regions_definition(model)  | Retrieves the list of countries  |\n",
      "|                                | for each region of the model.    |\n",
      "+--------------------------------+----------------------------------+\n",
      "| ndb.NewDatabase(...)           | Generates a summary of the most  |\n",
      "| ndb.generate_scenario_report() | important scenarios' variables.  |\n",
      "+--------------------------------+----------------------------------+\n",
      "Keep uncertainty data?\n",
      "NewDatabase(..., keep_uncertainty_data=True)\n",
      "\n",
      "Disable multiprocessing?\n",
      "NewDatabase(..., use_multiprocessing=False)\n",
      "\n",
      "Hide these messages?\n",
      "NewDatabase(..., quiet=True)\n",
      "- Extracting source database\n",
      "- Extracting inventories\n",
      "- Fetching IAM data\n",
      "Done!\n"
     ]
    }
   ],
   "source": [
    "ndb = NewDatabase(\n",
    "        scenarios = [\n",
    "            {\"model\":\"remind\", \"pathway\":\"SSP2-Base\", \"year\":2035,},\n",
    "            {\"model\":\"remind\", \"pathway\":\"SSP2-Base\", \"year\":2050,}\n",
    "        ],        \n",
    "        source_db=\"cutoff391\",\n",
    "        source_version=\"3.9.1\",\n",
    "        key='tUePmX_S5B8ieZkkM7WUU2CnO8SmShwmAeWK9x2rTFo=',\n",
    "        external_scenarios=[\n",
    "            ep2050, # <-- list datapackages here\n",
    "        ]\n",
    "    )"
   ]
  },
  {
   "cell_type": "code",
   "execution_count": 9,
   "id": "869579a7-37de-48a5-8cdd-e5e55f044ca7",
   "metadata": {},
   "outputs": [],
   "source": [
    "#ndb.update(\"external\") #seems that external is included when updating with no arguments"
   ]
  },
  {
   "cell_type": "code",
   "execution_count": 10,
   "id": "c582e3de-490a-4b7e-988e-bcd66fc2d531",
   "metadata": {},
   "outputs": [
    {
     "name": "stdout",
     "output_type": "stream",
     "text": [
      "`update()` will skip the following sectors: 'buses', 'cars', 'two_wheelers'.\n",
      "If you want to update these sectors, please run them separately afterwards.\n"
     ]
    },
    {
     "name": "stderr",
     "output_type": "stream",
     "text": [
      "Updating: external:  90%|████████████▌ | 9/10 [05:18<00:36, 36.26s/it]"
     ]
    },
    {
     "name": "stdout",
     "output_type": "stream",
     "text": [
      "Geomatcher: Used 'IN' for 'IND'\n",
      "Geomatcher: Used 'IN' for 'IND'\n",
      "Geomatcher: Used 'IN' for 'IND'\n",
      "Geomatcher: Used 'IN' for 'IND'\n",
      "Geomatcher: Used 'JP' for 'JPN'\n",
      "Geomatcher: Used 'JP' for 'JPN'\n",
      "Geomatcher: Used 'JP' for 'JPN'\n",
      "Geomatcher: Used 'JP' for 'JPN'\n",
      "Geomatcher: Used 'US' for 'USA'\n",
      "Geomatcher: Used 'US' for 'USA'\n",
      "Geomatcher: Used 'US' for 'USA'\n",
      "Geomatcher: Used 'US' for 'USA'\n",
      "Geomatcher: Used 'IN' for 'IND'\n",
      "Geomatcher: Used 'IN' for 'IND'\n",
      "Geomatcher: Used 'IN' for 'IND'\n",
      "Geomatcher: Used 'IN' for 'IND'\n",
      "Geomatcher: Used 'JP' for 'JPN'\n",
      "Geomatcher: Used 'JP' for 'JPN'\n",
      "Geomatcher: Used 'JP' for 'JPN'\n",
      "Geomatcher: Used 'JP' for 'JPN'\n",
      "Geomatcher: Used 'US' for 'USA'\n",
      "Geomatcher: Used 'US' for 'USA'\n",
      "Geomatcher: Used 'US' for 'USA'\n",
      "Geomatcher: Used 'US' for 'USA'\n"
     ]
    },
    {
     "name": "stderr",
     "output_type": "stream",
     "text": [
      "Updating: external: 100%|█████████████| 10/10 [05:44<00:00, 34.44s/it]\n"
     ]
    },
    {
     "name": "stdout",
     "output_type": "stream",
     "text": [
      "Done!\n",
      "\n"
     ]
    }
   ],
   "source": [
    "ndb.update() #seems that external is included when updating with no arguments"
   ]
  },
  {
   "cell_type": "code",
   "execution_count": 11,
   "id": "484198fc-47f9-464e-831e-620da8b9a8b8",
   "metadata": {},
   "outputs": [],
   "source": [
    "#ndb.update(\"cars\", \"buses\", \"two_wheelers\", \"external\")"
   ]
  },
  {
   "cell_type": "code",
   "execution_count": 18,
   "id": "9e7c037b-fb3f-4eb9-9f35-5923264952fe",
   "metadata": {},
   "outputs": [
    {
     "name": "stdout",
     "output_type": "stream",
     "text": [
      "market for district heat, future\n",
      "{'code': '35d6c613a1cb42eab363a66c6900fa6b',\n",
      " 'database': 'ecoinvent_cutoff_3.9_remind_SSP2-Base_2050_dk-2050-scenarios',\n",
      " 'exchanges': [{'amount': 1.0,\n",
      "                'input': ('ecoinvent_cutoff_3.9_remind_SSP2-Base_2050_dk-2050-scenarios',\n",
      "                          '35d6c613a1cb42eab363a66c6900fa6b'),\n",
      "                'location': 'DK',\n",
      "                'name': 'market for district heat, future',\n",
      "                'output': ('ecoinvent_cutoff_3.9_remind_SSP2-Base_2050_dk-2050-scenarios',\n",
      "                           '35d6c613a1cb42eab363a66c6900fa6b'),\n",
      "                'product': 'district heat',\n",
      "                'production volume': 75.62970720000001,\n",
      "                'type': 'production',\n",
      "                'unit': 'megajoule'},\n",
      "               {'amount': 0.06448894462994828,\n",
      "                'input': ('ecoinvent_cutoff_3.9_remind_SSP2-Base_2050_dk-2050-scenarios',\n",
      "                          '8988f7a793a2f9c48eb069d5a942fdac'),\n",
      "                'location': 'DK',\n",
      "                'name': 'heat and power co-generation, natural gas, combined '\n",
      "                        'cycle power plant, 400MW electrical',\n",
      "                'output': ('ecoinvent_cutoff_3.9_remind_SSP2-Base_2050_dk-2050-scenarios',\n",
      "                           '35d6c613a1cb42eab363a66c6900fa6b'),\n",
      "                'product': 'heat, district or industrial, natural gas',\n",
      "                'type': 'technosphere',\n",
      "                'uncertainty type': 0,\n",
      "                'unit': 'megajoule'},\n",
      "               {'amount': 0.3897992084253369,\n",
      "                'input': ('ecoinvent_cutoff_3.9_remind_SSP2-Base_2050_dk-2050-scenarios',\n",
      "                          '5359b6dd4bb52bb56114133c2fd53913'),\n",
      "                'location': 'DK',\n",
      "                'name': 'heat, from municipal waste incineration to generic '\n",
      "                        'market for heat district or industrial, other than '\n",
      "                        'natural gas',\n",
      "                'output': ('ecoinvent_cutoff_3.9_remind_SSP2-Base_2050_dk-2050-scenarios',\n",
      "                           '35d6c613a1cb42eab363a66c6900fa6b'),\n",
      "                'product': 'heat, district or industrial, other than natural '\n",
      "                           'gas',\n",
      "                'type': 'technosphere',\n",
      "                'uncertainty type': 0,\n",
      "                'unit': 'megajoule'},\n",
      "               {'amount': 0.23562883765864961,\n",
      "                'input': ('ecoinvent_cutoff_3.9_remind_SSP2-Base_2050_dk-2050-scenarios',\n",
      "                          'fd7861f8aad1482a843f21f7a6d9eb1b'),\n",
      "                'location': 'DK',\n",
      "                'name': 'heat from high temperature heat pump, 250 kw',\n",
      "                'output': ('ecoinvent_cutoff_3.9_remind_SSP2-Base_2050_dk-2050-scenarios',\n",
      "                           '35d6c613a1cb42eab363a66c6900fa6b'),\n",
      "                'product': 'heat, district or industrial, other than natural '\n",
      "                           'gas',\n",
      "                'type': 'technosphere',\n",
      "                'uncertainty type': 0,\n",
      "                'unit': 'megajoule'},\n",
      "               {'amount': 0.05540203916061175,\n",
      "                'input': ('ecoinvent_cutoff_3.9_remind_SSP2-Base_2050_dk-2050-scenarios',\n",
      "                          'b9e9616aa54946149265a1dc09c4ede2'),\n",
      "                'location': 'DK',\n",
      "                'name': 'heat production, deep geothermal',\n",
      "                'output': ('ecoinvent_cutoff_3.9_remind_SSP2-Base_2050_dk-2050-scenarios',\n",
      "                           '35d6c613a1cb42eab363a66c6900fa6b'),\n",
      "                'product': 'heat, deep geothermal',\n",
      "                'type': 'technosphere',\n",
      "                'uncertainty type': 0,\n",
      "                'unit': 'megajoule'},\n",
      "               {'amount': 0.09255622240462674,\n",
      "                'input': ('ecoinvent_cutoff_3.9_remind_SSP2-Base_2050_dk-2050-scenarios',\n",
      "                          '02ecd682982241859f67839e9d863af5'),\n",
      "                'location': 'DK',\n",
      "                'name': 'heat production, at 110 MW concentrating solar power '\n",
      "                        'plant, with thermal energy storage',\n",
      "                'output': ('ecoinvent_cutoff_3.9_remind_SSP2-Base_2050_dk-2050-scenarios',\n",
      "                           '35d6c613a1cb42eab363a66c6900fa6b'),\n",
      "                'product': 'heat',\n",
      "                'type': 'technosphere',\n",
      "                'uncertainty type': 0,\n",
      "                'unit': 'megajoule'},\n",
      "               {'amount': 0.062144892185963675,\n",
      "                'input': ('ecoinvent_cutoff_3.9_remind_SSP2-Base_2050_dk-2050-scenarios',\n",
      "                          '274d63c9560f4bf695fd7eafd5b68b04'),\n",
      "                'location': 'DK',\n",
      "                'name': 'excess industrial heat',\n",
      "                'output': ('ecoinvent_cutoff_3.9_remind_SSP2-Base_2050_dk-2050-scenarios',\n",
      "                           '35d6c613a1cb42eab363a66c6900fa6b'),\n",
      "                'product': 'heat, district or industrial, other than natural '\n",
      "                           'gas',\n",
      "                'type': 'technosphere',\n",
      "                'uncertainty type': 0,\n",
      "                'unit': 'megajoule'},\n",
      "               {'amount': 0.09993692002552142,\n",
      "                'input': ('ecoinvent_cutoff_3.9_remind_SSP2-Base_2050_dk-2050-scenarios',\n",
      "                          'e4d8aaee75ff44ba979d0455ae5e961a'),\n",
      "                'location': 'DK',\n",
      "                'name': 'heat production, straw, at furnace 300kW',\n",
      "                'output': ('ecoinvent_cutoff_3.9_remind_SSP2-Base_2050_dk-2050-scenarios',\n",
      "                           '35d6c613a1cb42eab363a66c6900fa6b'),\n",
      "                'product': 'heat, district or industrial, other than natural '\n",
      "                           'gas',\n",
      "                'type': 'technosphere',\n",
      "                'uncertainty type': 0,\n",
      "                'unit': 'megajoule'},\n",
      "               {'amount': 4.293550934175771e-05,\n",
      "                'input': ('ecoinvent_cutoff_3.9_remind_SSP2-Base_2050_dk-2050-scenarios',\n",
      "                          '274d63c9560f4bf695fd7eafd5b68b04'),\n",
      "                'location': 'DK',\n",
      "                'name': 'excess industrial heat',\n",
      "                'output': ('ecoinvent_cutoff_3.9_remind_SSP2-Base_2050_dk-2050-scenarios',\n",
      "                           '35d6c613a1cb42eab363a66c6900fa6b'),\n",
      "                'product': 'heat, district or industrial, other than natural '\n",
      "                           'gas',\n",
      "                'type': 'technosphere',\n",
      "                'uncertainty type': 0,\n",
      "                'unit': 'megajoule'},\n",
      "               {'amount': 0.2,\n",
      "                'input': ('ecoinvent_cutoff_3.9_remind_SSP2-Base_2050_dk-2050-scenarios',\n",
      "                          '35d6c613a1cb42eab363a66c6900fa6b'),\n",
      "                'location': 'DK',\n",
      "                'name': 'market for district heat, future',\n",
      "                'output': ('ecoinvent_cutoff_3.9_remind_SSP2-Base_2050_dk-2050-scenarios',\n",
      "                           '35d6c613a1cb42eab363a66c6900fa6b'),\n",
      "                'product': 'district heat',\n",
      "                'type': 'technosphere',\n",
      "                'uncertainty type': 0,\n",
      "                'unit': 'megajoule'}],\n",
      " 'location': 'DK',\n",
      " 'name': 'market for district heat, future',\n",
      " 'reference product': 'district heat',\n",
      " 'unit': 'megajoule'}\n",
      "\n"
     ]
    }
   ],
   "source": [
    "#read database without writing it to bw\n",
    "from pprint import pprint\n",
    "for ds in ndb.scenarios[1][\"database\"]: #the number in brackets correspond to the scenario nr\n",
    "    if \"district heat, future\" in ds[\"name\"]:\n",
    "        print(ds[\"name\"])\n",
    "        pprint(ds)\n",
    "        print()"
   ]
  },
  {
   "cell_type": "code",
   "execution_count": 13,
   "id": "f5fa1bf9-0445-4608-8130-f6123bfd501b",
   "metadata": {},
   "outputs": [],
   "source": [
    "#ndb.write_superstructure_db_to_brightway(\"residential energy\")"
   ]
  },
  {
   "cell_type": "code",
   "execution_count": 14,
   "id": "1ecb1028-c67b-480b-9286-c67e11ecc49c",
   "metadata": {},
   "outputs": [
    {
     "name": "stdout",
     "output_type": "stream",
     "text": [
      "Write new database(s) to Brightway.\n",
      "Running all checks...\n",
      "Anomalies found: check the change report.\n",
      "Running all checks...\n",
      "Anomalies found: check the change report.\n"
     ]
    },
    {
     "name": "stderr",
     "output_type": "stream",
     "text": [
      "Writing activities to SQLite3 database:\n",
      "0% [##############################] 100% | ETA: 00:00:00\n",
      "Total time elapsed: 00:00:20\n"
     ]
    },
    {
     "name": "stdout",
     "output_type": "stream",
     "text": [
      "Title: Writing activities to SQLite3 database:\n",
      "  Started: 04/04/2024 16:57:59\n",
      "  Finished: 04/04/2024 16:58:20\n",
      "  Total time elapsed: 00:00:20\n",
      "  CPU %: 100.00\n",
      "  Memory %: 11.98\n",
      "Created database: ecoinvent_cutoff_3.9_remind_SSP2-Base_2035_dk-2050-scenarios\n"
     ]
    },
    {
     "name": "stderr",
     "output_type": "stream",
     "text": [
      "Writing activities to SQLite3 database:\n",
      "0% [##############################] 100% | ETA: 00:00:00\n",
      "Total time elapsed: 00:00:21\n"
     ]
    },
    {
     "name": "stdout",
     "output_type": "stream",
     "text": [
      "Title: Writing activities to SQLite3 database:\n",
      "  Started: 04/04/2024 16:59:55\n",
      "  Finished: 04/04/2024 17:00:17\n",
      "  Total time elapsed: 00:00:21\n",
      "  CPU %: 100.00\n",
      "  Memory %: 12.21\n",
      "Created database: ecoinvent_cutoff_3.9_remind_SSP2-Base_2050_dk-2050-scenarios\n",
      "Generate scenario report.\n",
      "Report saved under /home/simb/PycharmProjects/DK-2050-scenarios/notebooks/export/scenario_report.\n",
      "Generate change report.\n",
      "Report saved under /home/simb/PycharmProjects/DK-2050-scenarios/notebooks.\n"
     ]
    }
   ],
   "source": [
    "ndb.write_db_to_brightway()"
   ]
  },
  {
   "cell_type": "code",
   "execution_count": 15,
   "id": "d8da806a-1660-49ac-8436-11ca0580aa25",
   "metadata": {
    "scrolled": true
   },
   "outputs": [],
   "source": [
    "#search\n",
    "#db = bw.Database(\"super_db_2024-02-14\")\n",
    "#s=db.search(\"historical\")\n",
    "#pprint(s)\n",
    "#s[0][\"reference product\"]\n",
    "#pprint(s[0])\n"
   ]
  },
  {
   "cell_type": "code",
   "execution_count": null,
   "id": "155d9156-cc05-40b7-b084-e3ee67422ec8",
   "metadata": {},
   "outputs": [],
   "source": []
  }
 ],
 "metadata": {
  "kernelspec": {
   "display_name": "Python 3 (ipykernel)",
   "language": "python",
   "name": "python3"
  },
  "language_info": {
   "codemirror_mode": {
    "name": "ipython",
    "version": 3
   },
   "file_extension": ".py",
   "mimetype": "text/x-python",
   "name": "python",
   "nbconvert_exporter": "python",
   "pygments_lexer": "ipython3",
   "version": "3.11.7"
  }
 },
 "nbformat": 4,
 "nbformat_minor": 5
}
