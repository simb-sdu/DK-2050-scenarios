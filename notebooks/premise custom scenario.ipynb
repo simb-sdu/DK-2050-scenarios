{
 "cells": [
  {
   "cell_type": "code",
   "execution_count": 1,
   "id": "f44cab4c-36c2-4ea4-aabc-b907570aaf67",
   "metadata": {},
   "outputs": [],
   "source": [
    "import bw2data as bw\n",
    "from premise import *\n",
    "from datapackage import Package"
   ]
  },
  {
   "cell_type": "code",
   "execution_count": 2,
   "id": "a2a9fe55-963b-4cf8-9d88-2cc6f3e5ad7c",
   "metadata": {},
   "outputs": [
    {
     "name": "stdout",
     "output_type": "stream",
     "text": [
      "/home/simb/PycharmProjects/premise/premise/__init__.py\n",
      "(2, 0, 2)\n"
     ]
    }
   ],
   "source": [
    "from premise import __file__ , __version__\n",
    "print(__file__)\n",
    "print(__version__)"
   ]
  },
  {
   "cell_type": "code",
   "execution_count": 3,
   "id": "d67ee9b0-6243-4b37-b628-0a06b63aa6a2",
   "metadata": {},
   "outputs": [],
   "source": [
    "fp = \"/home/simb/PycharmProjects/DK-2050-scenarios/datapackage.json\"\n",
    "#fp = r\"https://raw.githubusercontent.com/premise-community-scenarios/energy-perspective-2050-switzerland/main/datapackage.json\"\n",
    "ep2050 = Package(fp)"
   ]
  },
  {
   "cell_type": "code",
   "execution_count": 4,
   "id": "45e4cb66-fe26-4378-89c2-45a1c263d9be",
   "metadata": {},
   "outputs": [
    {
     "data": {
      "text/plain": [
       "[]"
      ]
     },
     "execution_count": 4,
     "metadata": {},
     "output_type": "execute_result"
    }
   ],
   "source": [
    "#test for errors in datapackage\n",
    "ep2050.errors"
   ]
  },
  {
   "cell_type": "code",
   "execution_count": 5,
   "id": "9807e404-8a36-4e9d-900e-3b2cbc67e96f",
   "metadata": {},
   "outputs": [],
   "source": [
    "bw.projects.set_current(\"psi1\")"
   ]
  },
  {
   "cell_type": "code",
   "execution_count": 6,
   "id": "fe14b739-d49d-45f7-8a31-ea3a8d2a5468",
   "metadata": {
    "scrolled": true
   },
   "outputs": [
    {
     "data": {
      "text/plain": [
       "Databases dictionary with 11 object(s):\n",
       "\tbiosphere3\n",
       "\tcutoff391\n",
       "\tecoinvent_cutoff_3.9_image_SSP2-Base_2035_dk-2050-scenarios\n",
       "\tecoinvent_cutoff_3.9_image_SSP2-Base_2050_dk-2050-scenarios\n",
       "\tresidential energy\n",
       "\ttest 1860\n",
       "\ttest 1890\n",
       "\ttest 1920\n",
       "\ttest 1970\n",
       "\ttest 2010\n",
       "\ttest DH and elec"
      ]
     },
     "execution_count": 6,
     "metadata": {},
     "output_type": "execute_result"
    }
   ],
   "source": [
    "bw.databases"
   ]
  },
  {
   "cell_type": "code",
   "execution_count": 7,
   "id": "545ab1d2-70b2-47c0-805f-113e9bafb3e1",
   "metadata": {},
   "outputs": [],
   "source": [
    "#clear_cache() #clear_cache()  recreates a cache of inventories, which is needed when some inventories are changed, to be considered. but it has nothing to do with my own inventories"
   ]
  },
  {
   "cell_type": "code",
   "execution_count": 9,
   "id": "7c1f650f-accb-4fb7-8ddf-9f5f71abbe4d",
   "metadata": {},
   "outputs": [
    {
     "name": "stdout",
     "output_type": "stream",
     "text": [
      "premise v.(2, 0, 2)\n",
      "+------------------------------------------------------------------+\n",
      "| Warning                                                          |\n",
      "+------------------------------------------------------------------+\n",
      "| Because some of the scenarios can yield LCI databases            |\n",
      "| containing net negative emission technologies (NET),             |\n",
      "| it is advised to account for biogenic CO2 flows when calculating |\n",
      "| Global Warming potential indicators.                             |\n",
      "| `premise_gwp` provides characterization factors for such flows.  |\n",
      "| It also provides factors for hydrogen emissions to air.          |\n",
      "|                                                                  |\n",
      "| Within your bw2 project:                                         |\n",
      "| from premise_gwp import add_premise_gwp                          |\n",
      "| add_premise_gwp()                                                |\n",
      "+------------------------------------------------------------------+\n",
      "+--------------------------------+----------------------------------+\n",
      "| Utils functions                | Description                      |\n",
      "+--------------------------------+----------------------------------+\n",
      "| clear_cache()                  | Clears the cache folder. Useful  |\n",
      "|                                | when updating `premise`or        |\n",
      "|                                | encountering issues with         |\n",
      "|                                | inventories.                     |\n",
      "+--------------------------------+----------------------------------+\n",
      "| get_regions_definition(model)  | Retrieves the list of countries  |\n",
      "|                                | for each region of the model.    |\n",
      "+--------------------------------+----------------------------------+\n",
      "| ndb.NewDatabase(...)           | Generates a summary of the most  |\n",
      "| ndb.generate_scenario_report() | important scenarios' variables.  |\n",
      "+--------------------------------+----------------------------------+\n",
      "Keep uncertainty data?\n",
      "NewDatabase(..., keep_uncertainty_data=True)\n",
      "\n",
      "Disable multiprocessing?\n",
      "NewDatabase(..., use_multiprocessing=False)\n",
      "\n",
      "Hide these messages?\n",
      "NewDatabase(..., quiet=True)\n"
     ]
    },
    {
     "ename": "KeyError",
     "evalue": "\"External scenario no. 1 is not compatible with ('image', 'SSP2-Base').\"",
     "output_type": "error",
     "traceback": [
      "\u001b[0;31m---------------------------------------------------------------------------\u001b[0m",
      "\u001b[0;31mKeyError\u001b[0m                                  Traceback (most recent call last)",
      "File \u001b[0;32m~/PycharmProjects/premise/premise/external_data_validation.py:687\u001b[0m, in \u001b[0;36mcheck_scenario_data_file\u001b[0;34m(datapackages, iam_scenarios)\u001b[0m\n\u001b[1;32m    685\u001b[0m     \u001b[38;5;28;01melse\u001b[39;00m:\n\u001b[1;32m    686\u001b[0m         iam_scen[\u001b[38;5;124m\"\u001b[39m\u001b[38;5;124mexternal scenarios\u001b[39m\u001b[38;5;124m\"\u001b[39m] \u001b[38;5;241m=\u001b[39m [\n\u001b[0;32m--> 687\u001b[0m             \u001b[43mrev_scenarios\u001b[49m\u001b[43m[\u001b[49m\u001b[43m(\u001b[49m\u001b[43miam_scen\u001b[49m\u001b[43m[\u001b[49m\u001b[38;5;124;43m\"\u001b[39;49m\u001b[38;5;124;43mmodel\u001b[39;49m\u001b[38;5;124;43m\"\u001b[39;49m\u001b[43m]\u001b[49m\u001b[43m,\u001b[49m\u001b[43m \u001b[49m\u001b[43miam_scen\u001b[49m\u001b[43m[\u001b[49m\u001b[38;5;124;43m\"\u001b[39;49m\u001b[38;5;124;43mpathway\u001b[39;49m\u001b[38;5;124;43m\"\u001b[39;49m\u001b[43m]\u001b[49m\u001b[43m)\u001b[49m\u001b[43m]\u001b[49m[\u001b[38;5;241m0\u001b[39m]\n\u001b[1;32m    688\u001b[0m         ]\n\u001b[1;32m    689\u001b[0m \u001b[38;5;28;01mexcept\u001b[39;00m \u001b[38;5;167;01mKeyError\u001b[39;00m \u001b[38;5;28;01mas\u001b[39;00m err:\n",
      "\u001b[0;31mKeyError\u001b[0m: ('image', 'SSP2-Base')",
      "\nThe above exception was the direct cause of the following exception:\n",
      "\u001b[0;31mKeyError\u001b[0m                                  Traceback (most recent call last)",
      "Cell \u001b[0;32mIn[9], line 1\u001b[0m\n\u001b[0;32m----> 1\u001b[0m ndb \u001b[38;5;241m=\u001b[39m \u001b[43mNewDatabase\u001b[49m\u001b[43m(\u001b[49m\n\u001b[1;32m      2\u001b[0m \u001b[43m        \u001b[49m\u001b[43mscenarios\u001b[49m\u001b[43m \u001b[49m\u001b[38;5;241;43m=\u001b[39;49m\u001b[43m \u001b[49m\u001b[43m[\u001b[49m\n\u001b[1;32m      3\u001b[0m \u001b[43m            \u001b[49m\u001b[43m{\u001b[49m\u001b[38;5;124;43m\"\u001b[39;49m\u001b[38;5;124;43mmodel\u001b[39;49m\u001b[38;5;124;43m\"\u001b[39;49m\u001b[43m:\u001b[49m\u001b[38;5;124;43m\"\u001b[39;49m\u001b[38;5;124;43mimage\u001b[39;49m\u001b[38;5;124;43m\"\u001b[39;49m\u001b[43m,\u001b[49m\u001b[43m \u001b[49m\u001b[38;5;124;43m\"\u001b[39;49m\u001b[38;5;124;43mpathway\u001b[39;49m\u001b[38;5;124;43m\"\u001b[39;49m\u001b[43m:\u001b[49m\u001b[38;5;124;43m\"\u001b[39;49m\u001b[38;5;124;43mSSP2-Base\u001b[39;49m\u001b[38;5;124;43m\"\u001b[39;49m\u001b[43m,\u001b[49m\u001b[43m \u001b[49m\u001b[38;5;124;43m\"\u001b[39;49m\u001b[38;5;124;43myear\u001b[39;49m\u001b[38;5;124;43m\"\u001b[39;49m\u001b[43m:\u001b[49m\u001b[38;5;241;43m2035\u001b[39;49m\u001b[43m,\u001b[49m\u001b[43m}\u001b[49m\u001b[43m,\u001b[49m\n\u001b[1;32m      4\u001b[0m \u001b[43m            \u001b[49m\u001b[43m{\u001b[49m\u001b[38;5;124;43m\"\u001b[39;49m\u001b[38;5;124;43mmodel\u001b[39;49m\u001b[38;5;124;43m\"\u001b[39;49m\u001b[43m:\u001b[49m\u001b[38;5;124;43m\"\u001b[39;49m\u001b[38;5;124;43mimage\u001b[39;49m\u001b[38;5;124;43m\"\u001b[39;49m\u001b[43m,\u001b[49m\u001b[43m \u001b[49m\u001b[38;5;124;43m\"\u001b[39;49m\u001b[38;5;124;43mpathway\u001b[39;49m\u001b[38;5;124;43m\"\u001b[39;49m\u001b[43m:\u001b[49m\u001b[38;5;124;43m\"\u001b[39;49m\u001b[38;5;124;43mSSP2-Base\u001b[39;49m\u001b[38;5;124;43m\"\u001b[39;49m\u001b[43m,\u001b[49m\u001b[43m \u001b[49m\u001b[38;5;124;43m\"\u001b[39;49m\u001b[38;5;124;43myear\u001b[39;49m\u001b[38;5;124;43m\"\u001b[39;49m\u001b[43m:\u001b[49m\u001b[38;5;241;43m2050\u001b[39;49m\u001b[43m,\u001b[49m\u001b[43m}\u001b[49m\n\u001b[1;32m      5\u001b[0m \u001b[43m        \u001b[49m\u001b[43m]\u001b[49m\u001b[43m,\u001b[49m\u001b[43m        \u001b[49m\n\u001b[1;32m      6\u001b[0m \u001b[43m        \u001b[49m\u001b[43msource_db\u001b[49m\u001b[38;5;241;43m=\u001b[39;49m\u001b[38;5;124;43m\"\u001b[39;49m\u001b[38;5;124;43mcutoff391\u001b[39;49m\u001b[38;5;124;43m\"\u001b[39;49m\u001b[43m,\u001b[49m\n\u001b[1;32m      7\u001b[0m \u001b[43m        \u001b[49m\u001b[43msource_version\u001b[49m\u001b[38;5;241;43m=\u001b[39;49m\u001b[38;5;124;43m\"\u001b[39;49m\u001b[38;5;124;43m3.9.1\u001b[39;49m\u001b[38;5;124;43m\"\u001b[39;49m\u001b[43m,\u001b[49m\n\u001b[1;32m      8\u001b[0m \u001b[43m        \u001b[49m\u001b[43mkey\u001b[49m\u001b[38;5;241;43m=\u001b[39;49m\u001b[38;5;124;43m'\u001b[39;49m\u001b[38;5;124;43mtUePmX_S5B8ieZkkM7WUU2CnO8SmShwmAeWK9x2rTFo=\u001b[39;49m\u001b[38;5;124;43m'\u001b[39;49m\u001b[43m,\u001b[49m\n\u001b[1;32m      9\u001b[0m \u001b[43m        \u001b[49m\u001b[43mexternal_scenarios\u001b[49m\u001b[38;5;241;43m=\u001b[39;49m\u001b[43m[\u001b[49m\n\u001b[1;32m     10\u001b[0m \u001b[43m            \u001b[49m\u001b[43mep2050\u001b[49m\u001b[43m,\u001b[49m\u001b[43m \u001b[49m\u001b[38;5;66;43;03m# <-- list datapackages here\u001b[39;49;00m\n\u001b[1;32m     11\u001b[0m \u001b[43m        \u001b[49m\u001b[43m]\u001b[49m\n\u001b[1;32m     12\u001b[0m \u001b[43m    \u001b[49m\u001b[43m)\u001b[49m\n",
      "File \u001b[0;32m~/PycharmProjects/premise/premise/new_database.py:520\u001b[0m, in \u001b[0;36mNewDatabase.__init__\u001b[0;34m(self, scenarios, source_version, source_type, key, source_db, source_file_path, additional_inventories, system_model, system_args, use_cached_inventories, use_cached_database, external_scenarios, quiet, keep_uncertainty_data, gains_scenario, use_absolute_efficiency, use_multiprocessing)\u001b[0m\n\u001b[1;32m    517\u001b[0m     \u001b[38;5;28mself\u001b[39m\u001b[38;5;241m.\u001b[39madditional_inventories \u001b[38;5;241m=\u001b[39m \u001b[38;5;28;01mNone\u001b[39;00m\n\u001b[1;32m    519\u001b[0m \u001b[38;5;28;01mif\u001b[39;00m external_scenarios:\n\u001b[0;32m--> 520\u001b[0m     \u001b[38;5;28mself\u001b[39m\u001b[38;5;241m.\u001b[39mdatapackages, \u001b[38;5;28mself\u001b[39m\u001b[38;5;241m.\u001b[39mscenarios \u001b[38;5;241m=\u001b[39m \u001b[43mcheck_external_scenarios\u001b[49m\u001b[43m(\u001b[49m\n\u001b[1;32m    521\u001b[0m \u001b[43m        \u001b[49m\u001b[43mexternal_scenarios\u001b[49m\u001b[43m,\u001b[49m\u001b[43m \u001b[49m\u001b[38;5;28;43mself\u001b[39;49m\u001b[38;5;241;43m.\u001b[39;49m\u001b[43mscenarios\u001b[49m\n\u001b[1;32m    522\u001b[0m \u001b[43m    \u001b[49m\u001b[43m)\u001b[49m\n\u001b[1;32m    523\u001b[0m \u001b[38;5;28;01melse\u001b[39;00m:\n\u001b[1;32m    524\u001b[0m     \u001b[38;5;28mself\u001b[39m\u001b[38;5;241m.\u001b[39mdatapackages \u001b[38;5;241m=\u001b[39m \u001b[38;5;28;01mNone\u001b[39;00m\n",
      "File \u001b[0;32m~/PycharmProjects/premise/premise/external_data_validation.py:899\u001b[0m, in \u001b[0;36mcheck_external_scenarios\u001b[0;34m(datapackage, iam_scenarios)\u001b[0m\n\u001b[1;32m    896\u001b[0m check_config_file(datapackage)\n\u001b[1;32m    898\u001b[0m \u001b[38;5;66;03m# Validate scenario data\u001b[39;00m\n\u001b[0;32m--> 899\u001b[0m datapackage, iam_scenarios \u001b[38;5;241m=\u001b[39m \u001b[43mcheck_scenario_data_file\u001b[49m\u001b[43m(\u001b[49m\u001b[43mdatapackage\u001b[49m\u001b[43m,\u001b[49m\u001b[43m \u001b[49m\u001b[43miam_scenarios\u001b[49m\u001b[43m)\u001b[49m\n\u001b[1;32m    901\u001b[0m \u001b[38;5;28;01mreturn\u001b[39;00m datapackage, iam_scenarios\n",
      "File \u001b[0;32m~/PycharmProjects/premise/premise/external_data_validation.py:690\u001b[0m, in \u001b[0;36mcheck_scenario_data_file\u001b[0;34m(datapackages, iam_scenarios)\u001b[0m\n\u001b[1;32m    686\u001b[0m             iam_scen[\u001b[38;5;124m\"\u001b[39m\u001b[38;5;124mexternal scenarios\u001b[39m\u001b[38;5;124m\"\u001b[39m] \u001b[38;5;241m=\u001b[39m [\n\u001b[1;32m    687\u001b[0m                 rev_scenarios[(iam_scen[\u001b[38;5;124m\"\u001b[39m\u001b[38;5;124mmodel\u001b[39m\u001b[38;5;124m\"\u001b[39m], iam_scen[\u001b[38;5;124m\"\u001b[39m\u001b[38;5;124mpathway\u001b[39m\u001b[38;5;124m\"\u001b[39m])][\u001b[38;5;241m0\u001b[39m]\n\u001b[1;32m    688\u001b[0m             ]\n\u001b[1;32m    689\u001b[0m     \u001b[38;5;28;01mexcept\u001b[39;00m \u001b[38;5;167;01mKeyError\u001b[39;00m \u001b[38;5;28;01mas\u001b[39;00m err:\n\u001b[0;32m--> 690\u001b[0m         \u001b[38;5;28;01mraise\u001b[39;00m \u001b[38;5;167;01mKeyError\u001b[39;00m(\n\u001b[1;32m    691\u001b[0m             \u001b[38;5;124mf\u001b[39m\u001b[38;5;124m\"\u001b[39m\u001b[38;5;124mExternal scenario no. \u001b[39m\u001b[38;5;132;01m{\u001b[39;00mi\u001b[38;5;250m \u001b[39m\u001b[38;5;241m+\u001b[39m\u001b[38;5;250m \u001b[39m\u001b[38;5;241m1\u001b[39m\u001b[38;5;132;01m}\u001b[39;00m\u001b[38;5;124m is not compatible with \u001b[39m\u001b[38;5;132;01m{\u001b[39;00miam_scen[\u001b[38;5;124m'\u001b[39m\u001b[38;5;124mmodel\u001b[39m\u001b[38;5;124m'\u001b[39m],\u001b[38;5;250m \u001b[39miam_scen[\u001b[38;5;124m'\u001b[39m\u001b[38;5;124mpathway\u001b[39m\u001b[38;5;124m'\u001b[39m]\u001b[38;5;132;01m}\u001b[39;00m\u001b[38;5;124m.\u001b[39m\u001b[38;5;124m\"\u001b[39m\n\u001b[1;32m    692\u001b[0m         ) \u001b[38;5;28;01mfrom\u001b[39;00m \u001b[38;5;21;01merr\u001b[39;00m\n\u001b[1;32m    694\u001b[0m resource \u001b[38;5;241m=\u001b[39m dp\u001b[38;5;241m.\u001b[39mget_resource(\u001b[38;5;124m\"\u001b[39m\u001b[38;5;124mscenario_data\u001b[39m\u001b[38;5;124m\"\u001b[39m)\n\u001b[1;32m    695\u001b[0m scenario_data \u001b[38;5;241m=\u001b[39m resource\u001b[38;5;241m.\u001b[39mread()\n",
      "\u001b[0;31mKeyError\u001b[0m: \"External scenario no. 1 is not compatible with ('image', 'SSP2-Base').\""
     ]
    }
   ],
   "source": [
    "ndb = NewDatabase(\n",
    "        scenarios = [\n",
    "            {\"model\":\"image\", \"pathway\":\"SSP2-Base\", \"year\":2035,},\n",
    "            {\"model\":\"image\", \"pathway\":\"SSP2-Base\", \"year\":2050,}\n",
    "        ],        \n",
    "        source_db=\"cutoff391\",\n",
    "        source_version=\"3.9.1\",\n",
    "        key='tUePmX_S5B8ieZkkM7WUU2CnO8SmShwmAeWK9x2rTFo=',\n",
    "        external_scenarios=[\n",
    "            ep2050, # <-- list datapackages here\n",
    "        ]\n",
    "    )"
   ]
  },
  {
   "cell_type": "code",
   "execution_count": null,
   "id": "869579a7-37de-48a5-8cdd-e5e55f044ca7",
   "metadata": {},
   "outputs": [],
   "source": [
    "#ndb.update(\"external\") #seems that external is included when updating all"
   ]
  },
  {
   "cell_type": "code",
   "execution_count": null,
   "id": "c582e3de-490a-4b7e-988e-bcd66fc2d531",
   "metadata": {},
   "outputs": [],
   "source": [
    "ndb.update()"
   ]
  },
  {
   "cell_type": "code",
   "execution_count": null,
   "id": "484198fc-47f9-464e-831e-620da8b9a8b8",
   "metadata": {},
   "outputs": [],
   "source": [
    "#ndb.update(\"cars\", \"buses\", \"two_wheelers\")"
   ]
  },
  {
   "cell_type": "code",
   "execution_count": null,
   "id": "9e7c037b-fb3f-4eb9-9f35-5923264952fe",
   "metadata": {},
   "outputs": [],
   "source": [
    "#read database without writing it to bw\n",
    "from pprint import pprint\n",
    "for ds in ndb.scenarios[1][\"database\"]: #the number in brackets correspond to the scenario nr\n",
    "    if \"district heat, future\" in ds[\"name\"]:\n",
    "        print(ds[\"name\"])\n",
    "        pprint(ds)\n",
    "        print()"
   ]
  },
  {
   "cell_type": "code",
   "execution_count": null,
   "id": "f5fa1bf9-0445-4608-8130-f6123bfd501b",
   "metadata": {},
   "outputs": [],
   "source": [
    "#ndb.write_superstructure_db_to_brightway(\"residential energy\")"
   ]
  },
  {
   "cell_type": "code",
   "execution_count": null,
   "id": "1ecb1028-c67b-480b-9286-c67e11ecc49c",
   "metadata": {},
   "outputs": [],
   "source": [
    "ndb.write_db_to_brightway()"
   ]
  },
  {
   "cell_type": "code",
   "execution_count": null,
   "id": "d8da806a-1660-49ac-8436-11ca0580aa25",
   "metadata": {
    "scrolled": true
   },
   "outputs": [],
   "source": [
    "#search\n",
    "#db = bw.Database(\"super_db_2024-02-14\")\n",
    "#s=db.search(\"historical\")\n",
    "#pprint(s)\n",
    "#s[0][\"reference product\"]\n",
    "#pprint(s[0])\n"
   ]
  },
  {
   "cell_type": "code",
   "execution_count": null,
   "id": "155d9156-cc05-40b7-b084-e3ee67422ec8",
   "metadata": {},
   "outputs": [],
   "source": []
  }
 ],
 "metadata": {
  "kernelspec": {
   "display_name": "Python 3 (ipykernel)",
   "language": "python",
   "name": "python3"
  },
  "language_info": {
   "codemirror_mode": {
    "name": "ipython",
    "version": 3
   },
   "file_extension": ".py",
   "mimetype": "text/x-python",
   "name": "python",
   "nbconvert_exporter": "python",
   "pygments_lexer": "ipython3",
   "version": "3.11.7"
  }
 },
 "nbformat": 4,
 "nbformat_minor": 5
}
