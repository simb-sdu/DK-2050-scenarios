{
 "cells": [
  {
   "cell_type": "code",
   "execution_count": 1,
   "id": "f44cab4c-36c2-4ea4-aabc-b907570aaf67",
   "metadata": {},
   "outputs": [],
   "source": [
    "import bw2data as bw\n",
    "from premise import *\n",
    "from datapackage import Package"
   ]
  },
  {
   "cell_type": "code",
   "execution_count": 2,
   "id": "a2a9fe55-963b-4cf8-9d88-2cc6f3e5ad7c",
   "metadata": {},
   "outputs": [
    {
     "name": "stdout",
     "output_type": "stream",
     "text": [
      "/home/simb/PycharmProjects/premise/premise/__init__.py\n",
      "(2, 0, 2)\n"
     ]
    }
   ],
   "source": [
    "from premise import __file__ , __version__\n",
    "print(__file__)\n",
    "print(__version__)"
   ]
  },
  {
   "cell_type": "code",
   "execution_count": 3,
   "id": "d67ee9b0-6243-4b37-b628-0a06b63aa6a2",
   "metadata": {},
   "outputs": [
    {
     "data": {
      "text/plain": [
       "[]"
      ]
     },
     "execution_count": 3,
     "metadata": {},
     "output_type": "execute_result"
    }
   ],
   "source": [
    "fp = \"/home/simb/PycharmProjects/DK-2050-scenarios/datapackage.json\"\n",
    "#fp = r\"https://raw.githubusercontent.com/premise-community-scenarios/energy-perspective-2050-switzerland/main/datapackage.json\"\n",
    "ep2050 = Package(fp)\n",
    "ep2050.errors #test for errors in datapackage"
   ]
  },
  {
   "cell_type": "code",
   "execution_count": 4,
   "id": "9807e404-8a36-4e9d-900e-3b2cbc67e96f",
   "metadata": {},
   "outputs": [],
   "source": [
    "#bw.projects.set_current(\"psi1\")\n",
    "bw.projects.set_current(\"tinyhouse\")"
   ]
  },
  {
   "cell_type": "code",
   "execution_count": 5,
   "id": "fe14b739-d49d-45f7-8a31-ea3a8d2a5468",
   "metadata": {
    "scrolled": true
   },
   "outputs": [
    {
     "data": {
      "text/plain": [
       "Databases dictionary with 42 objects, including:\n",
       "\tMultifamilyconventional_cutoff391\n",
       "\tMultifamilyconventional_ecoinvent_cutoff_3.9_image_SSP2-Base_1970_denmark-retrospective-lca\n",
       "\tMultifamilyconventional_ecoinvent_cutoff_3.9_image_SSP2-Base_2010_denmark-retrospective-lca\n",
       "\tMultifamilyconventional_ecoinvent_cutoff_3.9_remind_SSP2-Base_2035_dk-scenarios\n",
       "\tMultifamilyconventional_ecoinvent_cutoff_3.9_remind_SSP2-Base_2050_dk-scenarios\n",
       "\tMultifamilywood_cutoff391\n",
       "\tMultifamilywood_ecoinvent_cutoff_3.9_image_SSP2-Base_1970_denmark-retrospective-lca\n",
       "\tMultifamilywood_ecoinvent_cutoff_3.9_image_SSP2-Base_2010_denmark-retrospective-lca\n",
       "\tMultifamilywood_ecoinvent_cutoff_3.9_remind_SSP2-Base_2035_dk-scenarios\n",
       "\tMultifamilywood_ecoinvent_cutoff_3.9_remind_SSP2-Base_2050_dk-scenarios\n",
       "Use `list(this object)` to get the complete list."
      ]
     },
     "execution_count": 5,
     "metadata": {},
     "output_type": "execute_result"
    }
   ],
   "source": [
    "bw.databases"
   ]
  },
  {
   "cell_type": "code",
   "execution_count": 6,
   "id": "545ab1d2-70b2-47c0-805f-113e9bafb3e1",
   "metadata": {},
   "outputs": [],
   "source": [
    "#clear_cache() #clear_cache()  recreates a cache of inventories, which is needed when some inventories are changed, to be considered. but it has nothing to do with my own inventoriess"
   ]
  },
  {
   "cell_type": "code",
   "execution_count": 7,
   "id": "4c6737f6-74cf-417e-aa17-ce05786b40ed",
   "metadata": {},
   "outputs": [],
   "source": [
    "name = \"superstructure_cutoff391_ssp1-2-5_extremes_v202\"\n",
    "ext = \"DK-future\""
   ]
  },
  {
   "cell_type": "code",
   "execution_count": null,
   "id": "7c1f650f-accb-4fb7-8ddf-9f5f71abbe4d",
   "metadata": {},
   "outputs": [
    {
     "name": "stdout",
     "output_type": "stream",
     "text": [
      "premise v.(2, 0, 2)\n",
      "+------------------------------------------------------------------+\n",
      "| Warning                                                          |\n",
      "+------------------------------------------------------------------+\n",
      "| Because some of the scenarios can yield LCI databases            |\n",
      "| containing net negative emission technologies (NET),             |\n",
      "| it is advised to account for biogenic CO2 flows when calculating |\n",
      "| Global Warming potential indicators.                             |\n",
      "| `premise_gwp` provides characterization factors for such flows.  |\n",
      "| It also provides factors for hydrogen emissions to air.          |\n",
      "|                                                                  |\n",
      "| Within your bw2 project:                                         |\n",
      "| from premise_gwp import add_premise_gwp                          |\n",
      "| add_premise_gwp()                                                |\n",
      "+------------------------------------------------------------------+\n",
      "+--------------------------------+----------------------------------+\n",
      "| Utils functions                | Description                      |\n",
      "+--------------------------------+----------------------------------+\n",
      "| clear_cache()                  | Clears the cache folder. Useful  |\n",
      "|                                | when updating `premise`or        |\n",
      "|                                | encountering issues with         |\n",
      "|                                | inventories.                     |\n",
      "+--------------------------------+----------------------------------+\n",
      "| get_regions_definition(model)  | Retrieves the list of countries  |\n",
      "|                                | for each region of the model.    |\n",
      "+--------------------------------+----------------------------------+\n",
      "| ndb.NewDatabase(...)           | Generates a summary of the most  |\n",
      "| ndb.generate_scenario_report() | important scenarios' variables.  |\n",
      "+--------------------------------+----------------------------------+\n",
      "Keep uncertainty data?\n",
      "NewDatabase(..., keep_uncertainty_data=True)\n",
      "\n",
      "Disable multiprocessing?\n",
      "NewDatabase(..., use_multiprocessing=False)\n",
      "\n",
      "Hide these messages?\n",
      "NewDatabase(..., quiet=True)\n",
      "- Extracting source database\n",
      "- Extracting inventories\n",
      "- Fetching IAM data\n"
     ]
    }
   ],
   "source": [
    "ndb = NewDatabase(\n",
    "        scenarios = [\n",
    "            {\"model\":\"remind\", \"pathway\":\"SSP1-Base\", \"year\":2035,},\n",
    "            {\"model\":\"remind\", \"pathway\":\"SSP1-PkBudg500\", \"year\":2035,},\n",
    "            {\"model\":\"remind\", \"pathway\":\"SSP2-Base\", \"year\":2035,},\n",
    "            {\"model\":\"remind\", \"pathway\":\"SSP2-PkBudg500\", \"year\":2035,},\n",
    "            {\"model\":\"remind\", \"pathway\":\"SSP5-Base\", \"year\":2035,},\n",
    "            {\"model\":\"remind\", \"pathway\":\"SSP5-PkBudg500\", \"year\":2035,},\n",
    "            {\"model\":\"remind\", \"pathway\":\"SSP1-Base\", \"year\":2050,},\n",
    "            {\"model\":\"remind\", \"pathway\":\"SSP1-PkBudg500\", \"year\":2050,},\n",
    "            {\"model\":\"remind\", \"pathway\":\"SSP2-Base\", \"year\":2050,},\n",
    "            {\"model\":\"remind\", \"pathway\":\"SSP2-PkBudg500\", \"year\":2050,},\n",
    "            {\"model\":\"remind\", \"pathway\":\"SSP5-Base\", \"year\":2050,},\n",
    "            {\"model\":\"remind\", \"pathway\":\"SSP5-PkBudg500\", \"year\":2050,}\n",
    "        ],        \n",
    "        source_db=\"cutoff391\",\n",
    "        source_version=\"3.9.1\",\n",
    "        key='tUePmX_S5B8ieZkkM7WUU2CnO8SmShwmAeWK9x2rTFo=',\n",
    "        external_scenarios=[\n",
    "            ep2050, # <-- list datapackages here\n",
    "        ]\n",
    "    )"
   ]
  },
  {
   "cell_type": "code",
   "execution_count": null,
   "id": "c582e3de-490a-4b7e-988e-bcd66fc2d531",
   "metadata": {},
   "outputs": [],
   "source": [
    "#update everything else than external first and save that version\n",
    "ndb.update([\"biomass\", \"electricity\", \"cement\", \"steel\", \"fuels\", \"heat\", \"emissions\", \"cars\", \"two_wheelers\", \"trucks\", \"buses\"]) #seems that external is included when updating with no argument. So do all of them at a time to avoid external"
   ]
  },
  {
   "cell_type": "markdown",
   "id": "6d9448f5-6524-4779-8a27-7b9f8b0b21d7",
   "metadata": {},
   "source": [
    "explore database in memory before writing"
   ]
  },
  {
   "cell_type": "code",
   "execution_count": null,
   "id": "9e7c037b-fb3f-4eb9-9f35-5923264952fe",
   "metadata": {},
   "outputs": [],
   "source": [
    "#read database without writing it to bw\n",
    "from pprint import pprint\n",
    "for ds in ndb.scenarios[1][\"database\"]: #the number in brackets correspond to the scenario nr\n",
    "    if \"house, future\" in ds[\"name\"]:\n",
    "        print(ds[\"name\"])\n",
    "        pprint(ds)\n",
    "        print()"
   ]
  },
  {
   "cell_type": "code",
   "execution_count": null,
   "id": "1ecb1028-c67b-480b-9286-c67e11ecc49c",
   "metadata": {},
   "outputs": [],
   "source": [
    "ndb.write_db_to_brightway(name)"
   ]
  },
  {
   "cell_type": "code",
   "execution_count": null,
   "id": "e40a5d10-7541-4f83-a9a2-ae06c50ae952",
   "metadata": {},
   "outputs": [],
   "source": [
    "#now add the layer of updating external and save a new version\n",
    "ndb.update(\"external\")"
   ]
  },
  {
   "cell_type": "code",
   "execution_count": null,
   "id": "012f1333-19db-46c5-943d-dc3f03bbae09",
   "metadata": {},
   "outputs": [],
   "source": [
    "ndb.write_db_to_brightway(name+\"_\"+ext)"
   ]
  },
  {
   "cell_type": "code",
   "execution_count": null,
   "id": "d8da806a-1660-49ac-8436-11ca0580aa25",
   "metadata": {
    "scrolled": true
   },
   "outputs": [],
   "source": [
    "#search\n",
    "#db = bw.Database(\"super_db_2024-02-14\")\n",
    "#s=db.search(\"historical\")\n",
    "#pprint(s)\n",
    "#s[0][\"reference product\"]\n",
    "#pprint(s[0])\n"
   ]
  },
  {
   "cell_type": "code",
   "execution_count": null,
   "id": "58e03097-401a-4600-8c1b-d841f57f76de",
   "metadata": {},
   "outputs": [],
   "source": []
  }
 ],
 "metadata": {
  "kernelspec": {
   "display_name": "Python 3 (ipykernel)",
   "language": "python",
   "name": "python3"
  },
  "language_info": {
   "codemirror_mode": {
    "name": "ipython",
    "version": 3
   },
   "file_extension": ".py",
   "mimetype": "text/x-python",
   "name": "python",
   "nbconvert_exporter": "python",
   "pygments_lexer": "ipython3",
   "version": "3.11.7"
  }
 },
 "nbformat": 4,
 "nbformat_minor": 5
}
