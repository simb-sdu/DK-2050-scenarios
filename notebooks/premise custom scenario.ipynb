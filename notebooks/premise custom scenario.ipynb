{
 "cells": [
  {
   "cell_type": "code",
   "execution_count": 1,
   "id": "f44cab4c-36c2-4ea4-aabc-b907570aaf67",
   "metadata": {},
   "outputs": [],
   "source": [
    "import bw2data as bw\n",
    "from premise import *\n",
    "from datapackage import Package"
   ]
  },
  {
   "cell_type": "code",
   "execution_count": null,
   "id": "3710a053-efb7-4df1-9cb0-827146d203a3",
   "metadata": {},
   "outputs": [],
   "source": []
  },
  {
   "cell_type": "code",
   "execution_count": null,
   "id": "8aca72bf-4bd2-4d29-b299-a443711f1e72",
   "metadata": {},
   "outputs": [],
   "source": []
  },
  {
   "cell_type": "code",
   "execution_count": null,
   "id": "a2a95b3c-0b53-4ebf-bbfb-806cc6ae7dce",
   "metadata": {},
   "outputs": [],
   "source": []
  },
  {
   "cell_type": "code",
   "execution_count": 2,
   "id": "a2a9fe55-963b-4cf8-9d88-2cc6f3e5ad7c",
   "metadata": {},
   "outputs": [
    {
     "name": "stdout",
     "output_type": "stream",
     "text": [
      "/home/simb/PycharmProjects/premise/premise/__init__.py\n",
      "(2, 0, 2)\n"
     ]
    }
   ],
   "source": [
    "from premise import __file__ , __version__\n",
    "print(__file__)\n",
    "print(__version__)"
   ]
  },
  {
   "cell_type": "code",
   "execution_count": 3,
   "id": "d67ee9b0-6243-4b37-b628-0a06b63aa6a2",
   "metadata": {},
   "outputs": [
    {
     "data": {
      "text/plain": [
       "[]"
      ]
     },
     "execution_count": 3,
     "metadata": {},
     "output_type": "execute_result"
    }
   ],
   "source": [
    "fp = \"/home/simb/PycharmProjects/DK-2050-scenarios/datapackage.json\"\n",
    "#fp = r\"https://raw.githubusercontent.com/premise-community-scenarios/energy-perspective-2050-switzerland/main/datapackage.json\"\n",
    "ep2050 = Package(fp)\n",
    "ep2050.errors #test for errors in datapackage"
   ]
  },
  {
   "cell_type": "code",
   "execution_count": 4,
   "id": "9807e404-8a36-4e9d-900e-3b2cbc67e96f",
   "metadata": {},
   "outputs": [],
   "source": [
    "#bw.projects.set_current(\"psi1\")\n",
    "bw.projects.set_current(\"tinyhouse\")"
   ]
  },
  {
   "cell_type": "code",
   "execution_count": 5,
   "id": "fe14b739-d49d-45f7-8a31-ea3a8d2a5468",
   "metadata": {
    "scrolled": true
   },
   "outputs": [
    {
     "data": {
      "text/plain": [
       "Databases dictionary with 109 objects, including:\n",
       "\tMultifamilyconventional_cutoff391\n",
       "\tMultifamilyconventional_ecoinvent_cutoff_3.9_image_SSP2-Base_1970_denmark-retrospective-lca\n",
       "\tMultifamilyconventional_ecoinvent_cutoff_3.9_image_SSP2-Base_2010_denmark-retrospective-lca\n",
       "\tMultifamilyconventional_ecoinvent_cutoff_3.9_remind_SSP1-Base_2035_dk-scenarios\n",
       "\tMultifamilyconventional_ecoinvent_cutoff_3.9_remind_SSP1-Base_2050_dk-scenarios\n",
       "\tMultifamilyconventional_ecoinvent_cutoff_3.9_remind_SSP1-PkBudg500_2035_dk-scenarios\n",
       "\tMultifamilyconventional_ecoinvent_cutoff_3.9_remind_SSP1-PkBudg500_2050_dk-scenarios\n",
       "\tMultifamilyconventional_ecoinvent_cutoff_3.9_remind_SSP2-Base_2035_dk-scenarios\n",
       "\tMultifamilyconventional_ecoinvent_cutoff_3.9_remind_SSP2-Base_2050_dk-scenarios\n",
       "\tMultifamilyconventional_ecoinvent_cutoff_3.9_remind_SSP2-PkBudg500_2035_dk-scenarios\n",
       "Use `list(this object)` to get the complete list."
      ]
     },
     "execution_count": 5,
     "metadata": {},
     "output_type": "execute_result"
    }
   ],
   "source": [
    "bw.databases"
   ]
  },
  {
   "cell_type": "code",
   "execution_count": 6,
   "id": "545ab1d2-70b2-47c0-805f-113e9bafb3e1",
   "metadata": {},
   "outputs": [],
   "source": [
    "#clear_cache() #clear_cache()  recreates a cache of inventories, which is needed when some inventories are changed, to be considered. but it has nothing to do with my own inventoriess"
   ]
  },
  {
   "cell_type": "code",
   "execution_count": 7,
   "id": "4c6737f6-74cf-417e-aa17-ce05786b40ed",
   "metadata": {},
   "outputs": [],
   "source": [
    "name = \"superstructure_cutoff391_ssp1-2-5_extremes_v202\"\n",
    "ext = \"DK-future\""
   ]
  },
  {
   "cell_type": "code",
   "execution_count": 8,
   "id": "7c1f650f-accb-4fb7-8ddf-9f5f71abbe4d",
   "metadata": {},
   "outputs": [
    {
     "name": "stdout",
     "output_type": "stream",
     "text": [
      "premise v.(2, 0, 2)\n",
      "+------------------------------------------------------------------+\n",
      "| Warning                                                          |\n",
      "+------------------------------------------------------------------+\n",
      "| Because some of the scenarios can yield LCI databases            |\n",
      "| containing net negative emission technologies (NET),             |\n",
      "| it is advised to account for biogenic CO2 flows when calculating |\n",
      "| Global Warming potential indicators.                             |\n",
      "| `premise_gwp` provides characterization factors for such flows.  |\n",
      "| It also provides factors for hydrogen emissions to air.          |\n",
      "|                                                                  |\n",
      "| Within your bw2 project:                                         |\n",
      "| from premise_gwp import add_premise_gwp                          |\n",
      "| add_premise_gwp()                                                |\n",
      "+------------------------------------------------------------------+\n",
      "+--------------------------------+----------------------------------+\n",
      "| Utils functions                | Description                      |\n",
      "+--------------------------------+----------------------------------+\n",
      "| clear_cache()                  | Clears the cache folder. Useful  |\n",
      "|                                | when updating `premise`or        |\n",
      "|                                | encountering issues with         |\n",
      "|                                | inventories.                     |\n",
      "+--------------------------------+----------------------------------+\n",
      "| get_regions_definition(model)  | Retrieves the list of countries  |\n",
      "|                                | for each region of the model.    |\n",
      "+--------------------------------+----------------------------------+\n",
      "| ndb.NewDatabase(...)           | Generates a summary of the most  |\n",
      "| ndb.generate_scenario_report() | important scenarios' variables.  |\n",
      "+--------------------------------+----------------------------------+\n",
      "Keep uncertainty data?\n",
      "NewDatabase(..., keep_uncertainty_data=True)\n",
      "\n",
      "Disable multiprocessing?\n",
      "NewDatabase(..., use_multiprocessing=False)\n",
      "\n",
      "Hide these messages?\n",
      "NewDatabase(..., quiet=True)\n"
     ]
    },
    {
     "ename": "ValueError",
     "evalue": "The list of years you wish to create a database for are not entirely covered by the scenario data file no. 1.",
     "output_type": "error",
     "traceback": [
      "\u001b[0;31m---------------------------------------------------------------------------\u001b[0m",
      "\u001b[0;31mValueError\u001b[0m                                Traceback (most recent call last)",
      "Cell \u001b[0;32mIn[8], line 1\u001b[0m\n\u001b[0;32m----> 1\u001b[0m ndb \u001b[38;5;241m=\u001b[39m \u001b[43mNewDatabase\u001b[49m\u001b[43m(\u001b[49m\n\u001b[1;32m      2\u001b[0m \u001b[43m        \u001b[49m\u001b[43mscenarios\u001b[49m\u001b[43m \u001b[49m\u001b[38;5;241;43m=\u001b[39;49m\u001b[43m \u001b[49m\u001b[43m[\u001b[49m\n\u001b[1;32m      3\u001b[0m \u001b[38;5;66;43;03m#            {\"model\":\"remind\", \"pathway\":\"SSP1-Base\", \"year\":2035,},\u001b[39;49;00m\n\u001b[1;32m      4\u001b[0m \u001b[38;5;66;43;03m#            {\"model\":\"remind\", \"pathway\":\"SSP1-PkBudg500\", \"year\":2035,},\u001b[39;49;00m\n\u001b[1;32m      5\u001b[0m \u001b[43m            \u001b[49m\u001b[38;5;66;43;03m#{\"model\":\"remind\", \"pathway\":\"SSP2-Base\", \"year\":2035,},\u001b[39;49;00m\n\u001b[1;32m      6\u001b[0m \u001b[38;5;66;43;03m#            {\"model\":\"remind\", \"pathway\":\"SSP2-PkBudg500\", \"year\":2035,},\u001b[39;49;00m\n\u001b[1;32m      7\u001b[0m \u001b[38;5;66;43;03m#            {\"model\":\"remind\", \"pathway\":\"SSP5-Base\", \"year\":2035,},\u001b[39;49;00m\n\u001b[1;32m      8\u001b[0m \u001b[38;5;66;43;03m#            {\"model\":\"remind\", \"pathway\":\"SSP5-PkBudg500\", \"year\":2035,},\u001b[39;49;00m\n\u001b[1;32m      9\u001b[0m \u001b[38;5;66;43;03m#            {\"model\":\"remind\", \"pathway\":\"SSP1-Base\", \"year\":2050,},\u001b[39;49;00m\n\u001b[1;32m     10\u001b[0m \u001b[38;5;66;43;03m#            {\"model\":\"remind\", \"pathway\":\"SSP1-PkBudg500\", \"year\":2050,},\u001b[39;49;00m\n\u001b[1;32m     11\u001b[0m \u001b[38;5;66;43;03m#            #{\"model\":\"remind\", \"pathway\":\"SSP2-Base\", \"year\":2050,},\u001b[39;49;00m\n\u001b[1;32m     12\u001b[0m \u001b[38;5;66;43;03m#            {\"model\":\"remind\", \"pathway\":\"SSP2-PkBudg500\", \"year\":2050,},\u001b[39;49;00m\n\u001b[1;32m     13\u001b[0m \u001b[38;5;66;43;03m#            {\"model\":\"remind\", \"pathway\":\"SSP5-Base\", \"year\":2050,},\u001b[39;49;00m\n\u001b[1;32m     14\u001b[0m \u001b[38;5;66;43;03m#            {\"model\":\"remind\", \"pathway\":\"SSP5-PkBudg500\", \"year\":2050,}\u001b[39;49;00m\n\u001b[1;32m     15\u001b[0m \u001b[43m            \u001b[49m\u001b[43m{\u001b[49m\u001b[38;5;124;43m\"\u001b[39;49m\u001b[38;5;124;43mmodel\u001b[39;49m\u001b[38;5;124;43m\"\u001b[39;49m\u001b[43m:\u001b[49m\u001b[38;5;124;43m\"\u001b[39;49m\u001b[38;5;124;43mremind\u001b[39;49m\u001b[38;5;124;43m\"\u001b[39;49m\u001b[43m,\u001b[49m\u001b[43m \u001b[49m\u001b[38;5;124;43m\"\u001b[39;49m\u001b[38;5;124;43mpathway\u001b[39;49m\u001b[38;5;124;43m\"\u001b[39;49m\u001b[43m:\u001b[49m\u001b[38;5;124;43m\"\u001b[39;49m\u001b[38;5;124;43mSSP1-Base\u001b[39;49m\u001b[38;5;124;43m\"\u001b[39;49m\u001b[43m,\u001b[49m\u001b[43m \u001b[49m\u001b[38;5;124;43m\"\u001b[39;49m\u001b[38;5;124;43myear\u001b[39;49m\u001b[38;5;124;43m\"\u001b[39;49m\u001b[43m:\u001b[49m\u001b[38;5;241;43m2100\u001b[39;49m\u001b[43m,\u001b[49m\u001b[43m}\u001b[49m\u001b[43m,\u001b[49m\n\u001b[1;32m     16\u001b[0m \u001b[43m            \u001b[49m\u001b[43m{\u001b[49m\u001b[38;5;124;43m\"\u001b[39;49m\u001b[38;5;124;43mmodel\u001b[39;49m\u001b[38;5;124;43m\"\u001b[39;49m\u001b[43m:\u001b[49m\u001b[38;5;124;43m\"\u001b[39;49m\u001b[38;5;124;43mremind\u001b[39;49m\u001b[38;5;124;43m\"\u001b[39;49m\u001b[43m,\u001b[49m\u001b[43m \u001b[49m\u001b[38;5;124;43m\"\u001b[39;49m\u001b[38;5;124;43mpathway\u001b[39;49m\u001b[38;5;124;43m\"\u001b[39;49m\u001b[43m:\u001b[49m\u001b[38;5;124;43m\"\u001b[39;49m\u001b[38;5;124;43mSSP1-PkBudg500\u001b[39;49m\u001b[38;5;124;43m\"\u001b[39;49m\u001b[43m,\u001b[49m\u001b[43m \u001b[49m\u001b[38;5;124;43m\"\u001b[39;49m\u001b[38;5;124;43myear\u001b[39;49m\u001b[38;5;124;43m\"\u001b[39;49m\u001b[43m:\u001b[49m\u001b[38;5;241;43m2100\u001b[39;49m\u001b[43m,\u001b[49m\u001b[43m}\u001b[49m\u001b[43m,\u001b[49m\n\u001b[1;32m     17\u001b[0m \u001b[43m            \u001b[49m\u001b[43m{\u001b[49m\u001b[38;5;124;43m\"\u001b[39;49m\u001b[38;5;124;43mmodel\u001b[39;49m\u001b[38;5;124;43m\"\u001b[39;49m\u001b[43m:\u001b[49m\u001b[38;5;124;43m\"\u001b[39;49m\u001b[38;5;124;43mremind\u001b[39;49m\u001b[38;5;124;43m\"\u001b[39;49m\u001b[43m,\u001b[49m\u001b[43m \u001b[49m\u001b[38;5;124;43m\"\u001b[39;49m\u001b[38;5;124;43mpathway\u001b[39;49m\u001b[38;5;124;43m\"\u001b[39;49m\u001b[43m:\u001b[49m\u001b[38;5;124;43m\"\u001b[39;49m\u001b[38;5;124;43mSSP2-Base\u001b[39;49m\u001b[38;5;124;43m\"\u001b[39;49m\u001b[43m,\u001b[49m\u001b[43m \u001b[49m\u001b[38;5;124;43m\"\u001b[39;49m\u001b[38;5;124;43myear\u001b[39;49m\u001b[38;5;124;43m\"\u001b[39;49m\u001b[43m:\u001b[49m\u001b[38;5;241;43m2100\u001b[39;49m\u001b[43m,\u001b[49m\u001b[43m}\u001b[49m\u001b[43m,\u001b[49m\n\u001b[1;32m     18\u001b[0m \u001b[43m            \u001b[49m\u001b[43m{\u001b[49m\u001b[38;5;124;43m\"\u001b[39;49m\u001b[38;5;124;43mmodel\u001b[39;49m\u001b[38;5;124;43m\"\u001b[39;49m\u001b[43m:\u001b[49m\u001b[38;5;124;43m\"\u001b[39;49m\u001b[38;5;124;43mremind\u001b[39;49m\u001b[38;5;124;43m\"\u001b[39;49m\u001b[43m,\u001b[49m\u001b[43m \u001b[49m\u001b[38;5;124;43m\"\u001b[39;49m\u001b[38;5;124;43mpathway\u001b[39;49m\u001b[38;5;124;43m\"\u001b[39;49m\u001b[43m:\u001b[49m\u001b[38;5;124;43m\"\u001b[39;49m\u001b[38;5;124;43mSSP2-PkBudg500\u001b[39;49m\u001b[38;5;124;43m\"\u001b[39;49m\u001b[43m,\u001b[49m\u001b[43m \u001b[49m\u001b[38;5;124;43m\"\u001b[39;49m\u001b[38;5;124;43myear\u001b[39;49m\u001b[38;5;124;43m\"\u001b[39;49m\u001b[43m:\u001b[49m\u001b[38;5;241;43m2100\u001b[39;49m\u001b[43m,\u001b[49m\u001b[43m}\u001b[49m\u001b[43m,\u001b[49m\n\u001b[1;32m     19\u001b[0m \u001b[43m            \u001b[49m\u001b[43m{\u001b[49m\u001b[38;5;124;43m\"\u001b[39;49m\u001b[38;5;124;43mmodel\u001b[39;49m\u001b[38;5;124;43m\"\u001b[39;49m\u001b[43m:\u001b[49m\u001b[38;5;124;43m\"\u001b[39;49m\u001b[38;5;124;43mremind\u001b[39;49m\u001b[38;5;124;43m\"\u001b[39;49m\u001b[43m,\u001b[49m\u001b[43m \u001b[49m\u001b[38;5;124;43m\"\u001b[39;49m\u001b[38;5;124;43mpathway\u001b[39;49m\u001b[38;5;124;43m\"\u001b[39;49m\u001b[43m:\u001b[49m\u001b[38;5;124;43m\"\u001b[39;49m\u001b[38;5;124;43mSSP5-Base\u001b[39;49m\u001b[38;5;124;43m\"\u001b[39;49m\u001b[43m,\u001b[49m\u001b[43m \u001b[49m\u001b[38;5;124;43m\"\u001b[39;49m\u001b[38;5;124;43myear\u001b[39;49m\u001b[38;5;124;43m\"\u001b[39;49m\u001b[43m:\u001b[49m\u001b[38;5;241;43m2100\u001b[39;49m\u001b[43m,\u001b[49m\u001b[43m}\u001b[49m\u001b[43m,\u001b[49m\n\u001b[1;32m     20\u001b[0m \u001b[43m            \u001b[49m\u001b[43m{\u001b[49m\u001b[38;5;124;43m\"\u001b[39;49m\u001b[38;5;124;43mmodel\u001b[39;49m\u001b[38;5;124;43m\"\u001b[39;49m\u001b[43m:\u001b[49m\u001b[38;5;124;43m\"\u001b[39;49m\u001b[38;5;124;43mremind\u001b[39;49m\u001b[38;5;124;43m\"\u001b[39;49m\u001b[43m,\u001b[49m\u001b[43m \u001b[49m\u001b[38;5;124;43m\"\u001b[39;49m\u001b[38;5;124;43mpathway\u001b[39;49m\u001b[38;5;124;43m\"\u001b[39;49m\u001b[43m:\u001b[49m\u001b[38;5;124;43m\"\u001b[39;49m\u001b[38;5;124;43mSSP5-PkBudg500\u001b[39;49m\u001b[38;5;124;43m\"\u001b[39;49m\u001b[43m,\u001b[49m\u001b[43m \u001b[49m\u001b[38;5;124;43m\"\u001b[39;49m\u001b[38;5;124;43myear\u001b[39;49m\u001b[38;5;124;43m\"\u001b[39;49m\u001b[43m:\u001b[49m\u001b[38;5;241;43m2100\u001b[39;49m\u001b[43m,\u001b[49m\u001b[43m}\u001b[49m\n\u001b[1;32m     21\u001b[0m \u001b[43m        \u001b[49m\u001b[43m]\u001b[49m\u001b[43m,\u001b[49m\u001b[43m        \u001b[49m\n\u001b[1;32m     22\u001b[0m \u001b[43m        \u001b[49m\u001b[43msource_db\u001b[49m\u001b[38;5;241;43m=\u001b[39;49m\u001b[38;5;124;43m\"\u001b[39;49m\u001b[38;5;124;43mcutoff391\u001b[39;49m\u001b[38;5;124;43m\"\u001b[39;49m\u001b[43m,\u001b[49m\n\u001b[1;32m     23\u001b[0m \u001b[43m        \u001b[49m\u001b[43msource_version\u001b[49m\u001b[38;5;241;43m=\u001b[39;49m\u001b[38;5;124;43m\"\u001b[39;49m\u001b[38;5;124;43m3.9.1\u001b[39;49m\u001b[38;5;124;43m\"\u001b[39;49m\u001b[43m,\u001b[49m\n\u001b[1;32m     24\u001b[0m \u001b[43m        \u001b[49m\u001b[43mkey\u001b[49m\u001b[38;5;241;43m=\u001b[39;49m\u001b[38;5;124;43m'\u001b[39;49m\u001b[38;5;124;43mtUePmX_S5B8ieZkkM7WUU2CnO8SmShwmAeWK9x2rTFo=\u001b[39;49m\u001b[38;5;124;43m'\u001b[39;49m\u001b[43m,\u001b[49m\n\u001b[1;32m     25\u001b[0m \u001b[43m        \u001b[49m\u001b[43mexternal_scenarios\u001b[49m\u001b[38;5;241;43m=\u001b[39;49m\u001b[43m[\u001b[49m\n\u001b[1;32m     26\u001b[0m \u001b[43m            \u001b[49m\u001b[43mep2050\u001b[49m\u001b[43m,\u001b[49m\u001b[43m \u001b[49m\u001b[38;5;66;43;03m# <-- list datapackages here\u001b[39;49;00m\n\u001b[1;32m     27\u001b[0m \u001b[43m        \u001b[49m\u001b[43m]\u001b[49m\n\u001b[1;32m     28\u001b[0m \u001b[43m    \u001b[49m\u001b[43m)\u001b[49m\n",
      "File \u001b[0;32m~/PycharmProjects/premise/premise/new_database.py:520\u001b[0m, in \u001b[0;36mNewDatabase.__init__\u001b[0;34m(self, scenarios, source_version, source_type, key, source_db, source_file_path, additional_inventories, system_model, system_args, use_cached_inventories, use_cached_database, external_scenarios, quiet, keep_uncertainty_data, gains_scenario, use_absolute_efficiency, use_multiprocessing)\u001b[0m\n\u001b[1;32m    517\u001b[0m     \u001b[38;5;28mself\u001b[39m\u001b[38;5;241m.\u001b[39madditional_inventories \u001b[38;5;241m=\u001b[39m \u001b[38;5;28;01mNone\u001b[39;00m\n\u001b[1;32m    519\u001b[0m \u001b[38;5;28;01mif\u001b[39;00m external_scenarios:\n\u001b[0;32m--> 520\u001b[0m     \u001b[38;5;28mself\u001b[39m\u001b[38;5;241m.\u001b[39mdatapackages, \u001b[38;5;28mself\u001b[39m\u001b[38;5;241m.\u001b[39mscenarios \u001b[38;5;241m=\u001b[39m \u001b[43mcheck_external_scenarios\u001b[49m\u001b[43m(\u001b[49m\n\u001b[1;32m    521\u001b[0m \u001b[43m        \u001b[49m\u001b[43mexternal_scenarios\u001b[49m\u001b[43m,\u001b[49m\u001b[43m \u001b[49m\u001b[38;5;28;43mself\u001b[39;49m\u001b[38;5;241;43m.\u001b[39;49m\u001b[43mscenarios\u001b[49m\n\u001b[1;32m    522\u001b[0m \u001b[43m    \u001b[49m\u001b[43m)\u001b[49m\n\u001b[1;32m    523\u001b[0m \u001b[38;5;28;01melse\u001b[39;00m:\n\u001b[1;32m    524\u001b[0m     \u001b[38;5;28mself\u001b[39m\u001b[38;5;241m.\u001b[39mdatapackages \u001b[38;5;241m=\u001b[39m \u001b[38;5;28;01mNone\u001b[39;00m\n",
      "File \u001b[0;32m~/PycharmProjects/premise/premise/external_data_validation.py:946\u001b[0m, in \u001b[0;36mcheck_external_scenarios\u001b[0;34m(datapackage, iam_scenarios)\u001b[0m\n\u001b[1;32m    943\u001b[0m check_config_file(datapackage)\n\u001b[1;32m    945\u001b[0m \u001b[38;5;66;03m# Validate scenario data\u001b[39;00m\n\u001b[0;32m--> 946\u001b[0m datapackage, iam_scenarios \u001b[38;5;241m=\u001b[39m \u001b[43mcheck_scenario_data_file\u001b[49m\u001b[43m(\u001b[49m\u001b[43mdatapackage\u001b[49m\u001b[43m,\u001b[49m\u001b[43m \u001b[49m\u001b[43miam_scenarios\u001b[49m\u001b[43m)\u001b[49m\n\u001b[1;32m    948\u001b[0m \u001b[38;5;28;01mreturn\u001b[39;00m datapackage, iam_scenarios\n",
      "File \u001b[0;32m~/PycharmProjects/premise/premise/external_data_validation.py:781\u001b[0m, in \u001b[0;36mcheck_scenario_data_file\u001b[0;34m(datapackages, iam_scenarios)\u001b[0m\n\u001b[1;32m    772\u001b[0m     \u001b[38;5;28;01mraise\u001b[39;00m \u001b[38;5;167;01mValueError\u001b[39;00m(\n\u001b[1;32m    773\u001b[0m         \u001b[38;5;124mf\u001b[39m\u001b[38;5;124m\"\u001b[39m\u001b[38;5;124mOne or several of the years provided in the scenario data file no. \u001b[39m\u001b[38;5;132;01m{\u001b[39;00mi\u001b[38;5;250m \u001b[39m\u001b[38;5;241m+\u001b[39m\u001b[38;5;250m \u001b[39m\u001b[38;5;241m1\u001b[39m\u001b[38;5;132;01m}\u001b[39;00m\u001b[38;5;124m are \u001b[39m\u001b[38;5;124m\"\u001b[39m\n\u001b[1;32m    774\u001b[0m         \u001b[38;5;124m\"\u001b[39m\u001b[38;5;124mout of boundaries (2005 - 2100).\u001b[39m\u001b[38;5;124m\"\u001b[39m\n\u001b[1;32m    775\u001b[0m     )\n\u001b[1;32m    777\u001b[0m \u001b[38;5;28;01mif\u001b[39;00m \u001b[38;5;129;01mnot\u001b[39;00m \u001b[38;5;28mall\u001b[39m(\n\u001b[1;32m    778\u001b[0m     \u001b[38;5;28mmin\u001b[39m(years_cols) \u001b[38;5;241m<\u001b[39m\u001b[38;5;241m=\u001b[39m y \u001b[38;5;241m<\u001b[39m\u001b[38;5;241m=\u001b[39m \u001b[38;5;28mmax\u001b[39m(years_cols)\n\u001b[1;32m    779\u001b[0m     \u001b[38;5;28;01mfor\u001b[39;00m y \u001b[38;5;129;01min\u001b[39;00m [s[\u001b[38;5;124m\"\u001b[39m\u001b[38;5;124myear\u001b[39m\u001b[38;5;124m\"\u001b[39m] \u001b[38;5;28;01mfor\u001b[39;00m s \u001b[38;5;129;01min\u001b[39;00m iam_scenarios]\n\u001b[1;32m    780\u001b[0m ):\n\u001b[0;32m--> 781\u001b[0m     \u001b[38;5;28;01mraise\u001b[39;00m \u001b[38;5;167;01mValueError\u001b[39;00m(\n\u001b[1;32m    782\u001b[0m         \u001b[38;5;124mf\u001b[39m\u001b[38;5;124m\"\u001b[39m\u001b[38;5;124mThe list of years you wish to create a database for are not entirely covered\u001b[39m\u001b[38;5;124m\"\u001b[39m\n\u001b[1;32m    783\u001b[0m         \u001b[38;5;124mf\u001b[39m\u001b[38;5;124m\"\u001b[39m\u001b[38;5;124m by the scenario data file no. \u001b[39m\u001b[38;5;132;01m{\u001b[39;00mi\u001b[38;5;250m \u001b[39m\u001b[38;5;241m+\u001b[39m\u001b[38;5;250m \u001b[39m\u001b[38;5;241m1\u001b[39m\u001b[38;5;132;01m}\u001b[39;00m\u001b[38;5;124m.\u001b[39m\u001b[38;5;124m\"\u001b[39m\n\u001b[1;32m    784\u001b[0m     )\n\u001b[1;32m    786\u001b[0m \u001b[38;5;28;01mif\u001b[39;00m \u001b[38;5;28mlen\u001b[39m(pd\u001b[38;5;241m.\u001b[39misnull(df)\u001b[38;5;241m.\u001b[39msum()[pd\u001b[38;5;241m.\u001b[39misnull(df)\u001b[38;5;241m.\u001b[39msum() \u001b[38;5;241m>\u001b[39m \u001b[38;5;241m0\u001b[39m]) \u001b[38;5;241m>\u001b[39m \u001b[38;5;241m0\u001b[39m:\n\u001b[1;32m    787\u001b[0m     \u001b[38;5;28;01mraise\u001b[39;00m \u001b[38;5;167;01mValueError\u001b[39;00m(\n\u001b[1;32m    788\u001b[0m         \u001b[38;5;124mf\u001b[39m\u001b[38;5;124m\"\u001b[39m\u001b[38;5;124mThe following columns in the scenario data file no. \u001b[39m\u001b[38;5;132;01m{\u001b[39;00mi\u001b[38;5;250m \u001b[39m\u001b[38;5;241m+\u001b[39m\u001b[38;5;250m \u001b[39m\u001b[38;5;241m1\u001b[39m\u001b[38;5;132;01m}\u001b[39;00m\u001b[38;5;124m\"\u001b[39m\n\u001b[1;32m    789\u001b[0m         \u001b[38;5;124mf\u001b[39m\u001b[38;5;124m\"\u001b[39m\u001b[38;5;124mcontains empty cells.\u001b[39m\u001b[38;5;130;01m\\n\u001b[39;00m\u001b[38;5;132;01m{\u001b[39;00mpd\u001b[38;5;241m.\u001b[39misnull(df)\u001b[38;5;241m.\u001b[39msum()[pd\u001b[38;5;241m.\u001b[39misnull(df)\u001b[38;5;241m.\u001b[39msum()\u001b[38;5;250m \u001b[39m\u001b[38;5;241m>\u001b[39m\u001b[38;5;250m \u001b[39m\u001b[38;5;241m0\u001b[39m]\u001b[38;5;132;01m}\u001b[39;00m\u001b[38;5;124m.\u001b[39m\u001b[38;5;124m\"\u001b[39m\n\u001b[1;32m    790\u001b[0m     )\n",
      "\u001b[0;31mValueError\u001b[0m: The list of years you wish to create a database for are not entirely covered by the scenario data file no. 1."
     ]
    }
   ],
   "source": [
    "ndb = NewDatabase(\n",
    "        scenarios = [\n",
    "            {\"model\":\"remind\", \"pathway\":\"SSP1-Base\", \"year\":2035,},\n",
    "            {\"model\":\"remind\", \"pathway\":\"SSP1-PkBudg500\", \"year\":2035,},\n",
    "            {\"model\":\"remind\", \"pathway\":\"SSP2-Base\", \"year\":2035,},\n",
    "            {\"model\":\"remind\", \"pathway\":\"SSP2-PkBudg500\", \"year\":2035,},\n",
    "            {\"model\":\"remind\", \"pathway\":\"SSP5-Base\", \"year\":2035,},\n",
    "            {\"model\":\"remind\", \"pathway\":\"SSP5-PkBudg500\", \"year\":2035,},\n",
    "            {\"model\":\"remind\", \"pathway\":\"SSP1-Base\", \"year\":2050,},\n",
    "            {\"model\":\"remind\", \"pathway\":\"SSP1-PkBudg500\", \"year\":2050,},\n",
    "            {\"model\":\"remind\", \"pathway\":\"SSP2-Base\", \"year\":2050,},\n",
    "            {\"model\":\"remind\", \"pathway\":\"SSP2-PkBudg500\", \"year\":2050,},\n",
    "            {\"model\":\"remind\", \"pathway\":\"SSP5-Base\", \"year\":2050,},\n",
    "            {\"model\":\"remind\", \"pathway\":\"SSP5-PkBudg500\", \"year\":2050,}\n",
    "        ],        \n",
    "        source_db=\"cutoff391\",\n",
    "        source_version=\"3.9.1\",\n",
    "        key='tUePmX_S5B8ieZkkM7WUU2CnO8SmShwmAeWK9x2rTFo=',\n",
    "        external_scenarios=[\n",
    "            ep2050, # <-- list datapackages here\n",
    "        ]\n",
    "    )"
   ]
  },
  {
   "cell_type": "code",
   "execution_count": 9,
   "id": "e40a5d10-7541-4f83-a9a2-ae06c50ae952",
   "metadata": {},
   "outputs": [
    {
     "name": "stdout",
     "output_type": "stream",
     "text": [
      "`update()` will skip the following sectors: 'buses', 'cars', 'two_wheelers'.\n",
      "If you want to update these sectors, please run them separately afterwards.\n"
     ]
    },
    {
     "name": "stderr",
     "output_type": "stream",
     "text": [
      "Updating: external: 100%|█████████████| 10/10 [08:21<00:00, 50.20s/it]\n"
     ]
    },
    {
     "name": "stdout",
     "output_type": "stream",
     "text": [
      "Done!\n",
      "\n"
     ]
    }
   ],
   "source": [
    "#now add the layer of updating external and save a new version\n",
    "ndb.update()\n",
    "#ndb.update(\"external\")"
   ]
  },
  {
   "cell_type": "code",
   "execution_count": 10,
   "id": "5ddedddc-9163-46c5-b7e2-60697bcfa24c",
   "metadata": {},
   "outputs": [
    {
     "name": "stdout",
     "output_type": "stream",
     "text": [
      "EXTERNAL SCENARIOS\n",
      "market for individual heat, tiny house, future\n",
      "{'code': '2ef0654dd9ff48d598e01f507a80d1e9',\n",
      " 'database': 'premise',\n",
      " 'exchanges': [{'amount': 1,\n",
      "                'location': 'DK',\n",
      "                'name': 'market for individual heat, tiny house, future',\n",
      "                'product': 'individual heat',\n",
      "                'production volume': 35126880000.0,\n",
      "                'type': 'production',\n",
      "                'unit': 'megajoule'},\n",
      "               {'amount': 0.7450271700760216,\n",
      "                'location': 'DK',\n",
      "                'name': 'heat production, mixed logs, at wood heater 6kW',\n",
      "                'product': 'heat, central or small-scale, other than natural '\n",
      "                           'gas',\n",
      "                'type': 'technosphere',\n",
      "                'uncertainty type': 0,\n",
      "                'unit': 'megajoule'},\n",
      "               {'amount': 0.1423411359050391,\n",
      "                'location': 'DK',\n",
      "                'name': 'operation, solar collector system, Cu flat plate '\n",
      "                        'collector, one-family house, for hot water',\n",
      "                'product': 'heat, central or small-scale, other than natural '\n",
      "                           'gas',\n",
      "                'type': 'technosphere',\n",
      "                'uncertainty type': 0,\n",
      "                'unit': 'megajoule'},\n",
      "               {'amount': 0.11263169401893934,\n",
      "                'location': 'DK',\n",
      "                'name': 'heat production, air-water heat pump 10kW',\n",
      "                'product': 'heat, air-water heat pump 10kW',\n",
      "                'type': 'technosphere',\n",
      "                'uncertainty type': 0,\n",
      "                'unit': 'megajoule'}],\n",
      " 'location': 'DK',\n",
      " 'name': 'market for individual heat, tiny house, future',\n",
      " 'reference product': 'individual heat',\n",
      " 'unit': 'megajoule'}\n",
      "\n",
      "market for residential energy, tiny house, future\n",
      "{'code': 'ee4b32a325ed41a7993d93b6b1eaae97',\n",
      " 'database': 'premise',\n",
      " 'exchanges': [{'amount': 1,\n",
      "                'location': 'DK',\n",
      "                'name': 'market for residential energy, tiny house, future',\n",
      "                'product': 'residential energy',\n",
      "                'production volume': 77824710000.0,\n",
      "                'type': 'production',\n",
      "                'unit': 'megajoule'},\n",
      "               {'amount': 0.9007421935783635,\n",
      "                'location': 'DK',\n",
      "                'name': 'market for individual heat, tiny house, future',\n",
      "                'product': 'individual heat',\n",
      "                'type': 'technosphere',\n",
      "                'uncertainty type': 0,\n",
      "                'unit': 'megajoule'},\n",
      "               {'amount': 0.027571833467802197,\n",
      "                'location': 'DK',\n",
      "                'name': 'market for electricity, low voltage',\n",
      "                'product': 'electricity, low voltage',\n",
      "                'type': 'technosphere',\n",
      "                'uncertainty type': 0,\n",
      "                'unit': 'kilowatt hour'}],\n",
      " 'location': 'DK',\n",
      " 'name': 'market for residential energy, tiny house, future',\n",
      " 'reference product': 'residential energy',\n",
      " 'unit': 'megajoule'}\n",
      "\n"
     ]
    }
   ],
   "source": [
    "print(\"EXTERNAL SCENARIOS\")\n",
    "\n",
    "#read database without writing it to bw\n",
    "from pprint import pprint\n",
    "for ds in ndb.scenarios[0][\"database\"]: #the number in brackets correspond to the scenario nr\n",
    "    if \"house, future\" in ds[\"name\"]:\n",
    "        print(ds[\"name\"])\n",
    "        pprint(ds)\n",
    "        print()"
   ]
  },
  {
   "cell_type": "code",
   "execution_count": 11,
   "id": "012f1333-19db-46c5-943d-dc3f03bbae09",
   "metadata": {},
   "outputs": [],
   "source": [
    "#ndb.write_superstructure_db_to_brightway(name+\"_\"+ext)"
   ]
  },
  {
   "cell_type": "code",
   "execution_count": 12,
   "id": "d8da806a-1660-49ac-8436-11ca0580aa25",
   "metadata": {
    "scrolled": true
   },
   "outputs": [],
   "source": [
    "#search\n",
    "#db = bw.Database(\"super_db_2024-02-14\")\n",
    "#s=db.search(\"historical\")\n",
    "#pprint(s)\n",
    "#s[0][\"reference product\"]\n",
    "#pprint(s[0])\n"
   ]
  },
  {
   "cell_type": "code",
   "execution_count": 13,
   "id": "fc67ad92-94d9-415f-b6f4-03e664e3136a",
   "metadata": {},
   "outputs": [
    {
     "name": "stdout",
     "output_type": "stream",
     "text": [
      "Write new database(s) to Brightway.\n",
      "Running all checks...\n",
      "Anomalies found: check the change report.\n",
      "Running all checks...\n",
      "Anomalies found: check the change report.\n",
      "Running all checks...\n",
      "Anomalies found: check the change report.\n",
      "Running all checks...\n",
      "Anomalies found: check the change report.\n"
     ]
    },
    {
     "name": "stderr",
     "output_type": "stream",
     "text": [
      "Writing activities to SQLite3 database:\n",
      "0% [##############################] 100% | ETA: 00:00:00\n",
      "Total time elapsed: 00:00:21\n"
     ]
    },
    {
     "name": "stdout",
     "output_type": "stream",
     "text": [
      "Title: Writing activities to SQLite3 database:\n",
      "  Started: 10/30/2024 12:24:18\n",
      "  Finished: 10/30/2024 12:24:39\n",
      "  Total time elapsed: 00:00:21\n",
      "  CPU %: 100.10\n",
      "  Memory %: 18.69\n",
      "Created database: ecoinvent_cutoff_3.9_remind_SSP1-PkBudg500_2050_dk-scenarios\n"
     ]
    },
    {
     "name": "stderr",
     "output_type": "stream",
     "text": [
      "Writing activities to SQLite3 database:\n",
      "0% [##############################] 100% | ETA: 00:00:00\n",
      "Total time elapsed: 00:00:22\n"
     ]
    },
    {
     "name": "stdout",
     "output_type": "stream",
     "text": [
      "Title: Writing activities to SQLite3 database:\n",
      "  Started: 10/30/2024 12:26:50\n",
      "  Finished: 10/30/2024 12:27:12\n",
      "  Total time elapsed: 00:00:22\n",
      "  CPU %: 100.00\n",
      "  Memory %: 19.00\n",
      "Created database: ecoinvent_cutoff_3.9_remind_SSP2-PkBudg500_2050_dk-scenarios\n"
     ]
    },
    {
     "name": "stderr",
     "output_type": "stream",
     "text": [
      "Writing activities to SQLite3 database:\n",
      "0% [##############################] 100% | ETA: 00:00:00\n",
      "Total time elapsed: 00:00:22\n"
     ]
    },
    {
     "name": "stdout",
     "output_type": "stream",
     "text": [
      "Title: Writing activities to SQLite3 database:\n",
      "  Started: 10/30/2024 12:30:14\n",
      "  Finished: 10/30/2024 12:30:36\n",
      "  Total time elapsed: 00:00:22\n",
      "  CPU %: 100.00\n",
      "  Memory %: 18.99\n",
      "Created database: ecoinvent_cutoff_3.9_remind_SSP5-Base_2050_dk-scenarios\n"
     ]
    },
    {
     "name": "stderr",
     "output_type": "stream",
     "text": [
      "Writing activities to SQLite3 database:\n",
      "0% [##############################] 100% | ETA: 00:00:00\n",
      "Total time elapsed: 00:00:22\n"
     ]
    },
    {
     "name": "stdout",
     "output_type": "stream",
     "text": [
      "Title: Writing activities to SQLite3 database:\n",
      "  Started: 10/30/2024 12:33:22\n",
      "  Finished: 10/30/2024 12:33:44\n",
      "  Total time elapsed: 00:00:22\n",
      "  CPU %: 100.10\n",
      "  Memory %: 18.73\n",
      "Created database: ecoinvent_cutoff_3.9_remind_SSP5-PkBudg500_2050_dk-scenarios\n",
      "Generate scenario report.\n",
      "Report saved under /home/simb/PycharmProjects/DK-2050-scenarios/notebooks/export/scenario_report.\n",
      "Generate change report.\n"
     ]
    },
    {
     "ename": "KeyError",
     "evalue": "'premise_transport'",
     "output_type": "error",
     "traceback": [
      "\u001b[0;31m---------------------------------------------------------------------------\u001b[0m",
      "\u001b[0;31mKeyError\u001b[0m                                  Traceback (most recent call last)",
      "Cell \u001b[0;32mIn[13], line 1\u001b[0m\n\u001b[0;32m----> 1\u001b[0m \u001b[43mndb\u001b[49m\u001b[38;5;241;43m.\u001b[39;49m\u001b[43mwrite_db_to_brightway\u001b[49m\u001b[43m(\u001b[49m\u001b[43m)\u001b[49m\n",
      "File \u001b[0;32m~/PycharmProjects/premise/premise/new_database.py:1031\u001b[0m, in \u001b[0;36mNewDatabase.write_db_to_brightway\u001b[0;34m(self, name)\u001b[0m\n\u001b[1;32m   1029\u001b[0m \u001b[38;5;28mself\u001b[39m\u001b[38;5;241m.\u001b[39mgenerate_scenario_report()\n\u001b[1;32m   1030\u001b[0m \u001b[38;5;66;03m# generate change report from logs\u001b[39;00m\n\u001b[0;32m-> 1031\u001b[0m \u001b[38;5;28;43mself\u001b[39;49m\u001b[38;5;241;43m.\u001b[39;49m\u001b[43mgenerate_change_report\u001b[49m\u001b[43m(\u001b[49m\u001b[43m)\u001b[49m\n",
      "File \u001b[0;32m~/PycharmProjects/premise/premise/new_database.py:1259\u001b[0m, in \u001b[0;36mNewDatabase.generate_change_report\u001b[0;34m(self)\u001b[0m\n\u001b[1;32m   1254\u001b[0m \u001b[38;5;250m\u001b[39m\u001b[38;5;124;03m\"\"\"\u001b[39;00m\n\u001b[1;32m   1255\u001b[0m \u001b[38;5;124;03mGenerate a report of the changes between the original database and the scenarios.\u001b[39;00m\n\u001b[1;32m   1256\u001b[0m \u001b[38;5;124;03m\"\"\"\u001b[39;00m\n\u001b[1;32m   1258\u001b[0m \u001b[38;5;28mprint\u001b[39m(\u001b[38;5;124m\"\u001b[39m\u001b[38;5;124mGenerate change report.\u001b[39m\u001b[38;5;124m\"\u001b[39m)\n\u001b[0;32m-> 1259\u001b[0m \u001b[43mgenerate_change_report\u001b[49m\u001b[43m(\u001b[49m\n\u001b[1;32m   1260\u001b[0m \u001b[43m    \u001b[49m\u001b[38;5;28;43mself\u001b[39;49m\u001b[38;5;241;43m.\u001b[39;49m\u001b[43msource\u001b[49m\u001b[43m,\u001b[49m\u001b[43m \u001b[49m\u001b[38;5;28;43mself\u001b[39;49m\u001b[38;5;241;43m.\u001b[39;49m\u001b[43mversion\u001b[49m\u001b[43m,\u001b[49m\u001b[43m \u001b[49m\u001b[38;5;28;43mself\u001b[39;49m\u001b[38;5;241;43m.\u001b[39;49m\u001b[43msource_type\u001b[49m\u001b[43m,\u001b[49m\u001b[43m \u001b[49m\u001b[38;5;28;43mself\u001b[39;49m\u001b[38;5;241;43m.\u001b[39;49m\u001b[43msystem_model\u001b[49m\n\u001b[1;32m   1261\u001b[0m \u001b[43m\u001b[49m\u001b[43m)\u001b[49m\n\u001b[1;32m   1262\u001b[0m \u001b[38;5;66;03m# saved under working directory\u001b[39;00m\n\u001b[1;32m   1263\u001b[0m \u001b[38;5;28mprint\u001b[39m(\u001b[38;5;124mf\u001b[39m\u001b[38;5;124m\"\u001b[39m\u001b[38;5;124mReport saved under \u001b[39m\u001b[38;5;132;01m{\u001b[39;00mos\u001b[38;5;241m.\u001b[39mgetcwd()\u001b[38;5;132;01m}\u001b[39;00m\u001b[38;5;124m.\u001b[39m\u001b[38;5;124m\"\u001b[39m)\n",
      "File \u001b[0;32m~/PycharmProjects/premise/premise/report.py:589\u001b[0m, in \u001b[0;36mgenerate_change_report\u001b[0;34m(source, version, source_type, system_model)\u001b[0m\n\u001b[1;32m    586\u001b[0m \u001b[38;5;28;01mif\u001b[39;00m os\u001b[38;5;241m.\u001b[39mstat(fp)\u001b[38;5;241m.\u001b[39mst_size \u001b[38;5;241m==\u001b[39m \u001b[38;5;241m0\u001b[39m:\n\u001b[1;32m    587\u001b[0m     \u001b[38;5;28;01mcontinue\u001b[39;00m\n\u001b[0;32m--> 589\u001b[0m df \u001b[38;5;241m=\u001b[39m \u001b[43mconvert_log_to_excel_file\u001b[49m\u001b[43m(\u001b[49m\u001b[43mfp\u001b[49m\u001b[43m)\u001b[49m\n\u001b[1;32m    591\u001b[0m \u001b[38;5;66;03m# create a worksheet for this sector\u001b[39;00m\n\u001b[1;32m    592\u001b[0m worksheet \u001b[38;5;241m=\u001b[39m workbook\u001b[38;5;241m.\u001b[39mcreate_sheet(fetch_tab_name(filepath))\n",
      "File \u001b[0;32m~/PycharmProjects/premise/premise/report.py:653\u001b[0m, in \u001b[0;36mconvert_log_to_excel_file\u001b[0;34m(filepath)\u001b[0m\n\u001b[1;32m    651\u001b[0m \u001b[38;5;28;01mtry\u001b[39;00m:\n\u001b[1;32m    652\u001b[0m     df \u001b[38;5;241m=\u001b[39m pd\u001b[38;5;241m.\u001b[39mread_csv(filepath, sep\u001b[38;5;241m=\u001b[39m\u001b[38;5;124m\"\u001b[39m\u001b[38;5;124m|\u001b[39m\u001b[38;5;124m\"\u001b[39m, header\u001b[38;5;241m=\u001b[39m\u001b[38;5;28;01mNone\u001b[39;00m, on_bad_lines\u001b[38;5;241m=\u001b[39m\u001b[38;5;124m\"\u001b[39m\u001b[38;5;124mskip\u001b[39m\u001b[38;5;124m\"\u001b[39m)\n\u001b[0;32m--> 653\u001b[0m     df\u001b[38;5;241m.\u001b[39mcolumns \u001b[38;5;241m=\u001b[39m \u001b[43mfetch_columns\u001b[49m\u001b[43m(\u001b[49m\u001b[43mfilepath\u001b[49m\u001b[43m)\u001b[49m\n\u001b[1;32m    654\u001b[0m     \u001b[38;5;28;01mreturn\u001b[39;00m df\n\u001b[1;32m    656\u001b[0m \u001b[38;5;28;01mexcept\u001b[39;00m EmptyDataError:\n\u001b[1;32m    657\u001b[0m     \u001b[38;5;66;03m# return an empty dataframe\u001b[39;00m\n",
      "File \u001b[0;32m~/PycharmProjects/premise/premise/report.py:629\u001b[0m, in \u001b[0;36mfetch_columns\u001b[0;34m(variable)\u001b[0m\n\u001b[1;32m    626\u001b[0m \u001b[38;5;28;01mwith\u001b[39;00m \u001b[38;5;28mopen\u001b[39m(LOG_REPORTING_FILEPATH, \u001b[38;5;124m\"\u001b[39m\u001b[38;5;124mr\u001b[39m\u001b[38;5;124m\"\u001b[39m, encoding\u001b[38;5;241m=\u001b[39m\u001b[38;5;124m\"\u001b[39m\u001b[38;5;124mutf-8\u001b[39m\u001b[38;5;124m\"\u001b[39m) \u001b[38;5;28;01mas\u001b[39;00m stream:\n\u001b[1;32m    627\u001b[0m     reporting \u001b[38;5;241m=\u001b[39m yaml\u001b[38;5;241m.\u001b[39msafe_load(stream)\n\u001b[0;32m--> 629\u001b[0m \u001b[38;5;28;01mreturn\u001b[39;00m \u001b[38;5;28mlist\u001b[39m(\u001b[43mreporting\u001b[49m\u001b[43m[\u001b[49m\u001b[43mvariable\u001b[49m\u001b[38;5;241;43m.\u001b[39;49m\u001b[43mstem\u001b[49m\u001b[43m]\u001b[49m[\u001b[38;5;124m\"\u001b[39m\u001b[38;5;124mcolumns\u001b[39m\u001b[38;5;124m\"\u001b[39m]\u001b[38;5;241m.\u001b[39mkeys())\n",
      "\u001b[0;31mKeyError\u001b[0m: 'premise_transport'"
     ]
    }
   ],
   "source": [
    "ndb.write_db_to_brightway()"
   ]
  },
  {
   "cell_type": "code",
   "execution_count": null,
   "id": "6d67dc48-c385-46df-8010-cfa50f11a6f9",
   "metadata": {},
   "outputs": [],
   "source": []
  }
 ],
 "metadata": {
  "kernelspec": {
   "display_name": "Python 3 (ipykernel)",
   "language": "python",
   "name": "python3"
  },
  "language_info": {
   "codemirror_mode": {
    "name": "ipython",
    "version": 3
   },
   "file_extension": ".py",
   "mimetype": "text/x-python",
   "name": "python",
   "nbconvert_exporter": "python",
   "pygments_lexer": "ipython3",
   "version": "3.11.7"
  }
 },
 "nbformat": 4,
 "nbformat_minor": 5
}
